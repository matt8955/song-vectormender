{
 "cells": [
  {
   "cell_type": "code",
   "execution_count": 8,
   "metadata": {},
   "outputs": [
    {
     "output_type": "execute_result",
     "data": {
      "text/plain": "131072"
     },
     "metadata": {},
     "execution_count": 8
    }
   ],
   "source": [
    "import os\n",
    "import csv\n",
    "import time\n",
    "import gensim\n",
    "from gensim.models.callbacks import CallbackAny2Vec\n",
    "\n",
    "csv.field_size_limit(1000000)"
   ]
  },
  {
   "cell_type": "code",
   "execution_count": null,
   "metadata": {},
   "outputs": [],
   "source": [
    "# create iterator for corpus training\n",
    "import csv\n",
    "\n",
    "class PlaylistCorpus(object):\n",
    "    \"\"\"An interator that yields sentences (lists of str).\"\"\"\n",
    "    spamreader = csv.reader(open('playlists.csv', 'r', encoding='utf-8'),delimiter=';')\n",
    "\n",
    "    def __iter__(self):\n",
    "        for row in self.spamreader:\n",
    "            columns = str(row)[2:-2].split(';')\n",
    "            # if len(columns) < 1000: #limit length of playlists?\n",
    "            #explore gensim preprocessing\n",
    "            playlist = []\n",
    "            for column in columns[2:]:\n",
    "                playlist.append(column)\n",
    "            yield playlist"
   ]
  },
  {
   "cell_type": "code",
   "execution_count": null,
   "metadata": {},
   "outputs": [],
   "source": [
    "playlists = PlaylistCorpus()"
   ]
  },
  {
   "cell_type": "code",
   "execution_count": null,
   "metadata": {
    "tags": []
   },
   "outputs": [],
   "source": [
    "for i, playlist in enumerate(playlists):\n",
    "    if i > 1:\n",
    "        break\n",
    "    print(i)\n",
    "    print (playlist)"
   ]
  },
  {
   "cell_type": "code",
   "execution_count": 9,
   "metadata": {},
   "outputs": [],
   "source": [
    "from gensim.models.callbacks import CallbackAny2Vec\n",
    "\n",
    "# hyperparameters\n",
    "\n",
    "min_count = 10      # minimum number of occurences of a track in all playlists\n",
    "window = 2          # length of sequences\n",
    "embedding_dim = 100 # number of dimensions in hidden layer\n",
    "batch_words = 10000 # number of tracks to process in each batch\n",
    "iter = 10           # number of iterations\n",
    "sg = 1              # skip-gram (1) or Continuous Bag Of Words (0)\n",
    "\n",
    "# ------------------------------------------------------------------------------\n",
    "\n",
    "valid_examples = [\n",
    "    '2NMgVh5qaPprKTEzFe3501', # The Police - Roxanne\n",
    "    '3Ti0GdlrotgwsAVBBugv0I', # A Tribe Called Quest - Can I Kick It?\n",
    "    '0nyrltZrQGAJMBZc1bYvuQ', # James Brown - Get Up Offa That Thing\n",
    "    '4hy4fb5D1KL50b3sng9cjw', # Nirvana - Smells Like Teen Spirit\n",
    "    '1P49MJhU5vzttesFxw3dOM', # Bob Marley & The Wailers - Three Little Birds\n",
    "    '76GlO5H5RT6g7y0gev86Nk', # The Cure - Just Like Heaven\n",
    "    '40tAOP3DPqmVD6L1h45Jp6', # Frank Sinatra - My Way\n",
    "    '4IMvgp0WZqr9mRqpEvDKxI', # The Clash - Rock the Casbah\n",
    "    '1iDcKYNvo6gglrOG6lvnHL', # The Rolling Stones - Sympathy For The Devil\n",
    "    '5uvosCdMlFdTXhoazkTI5R', # The Doors - Light My Fire\n",
    "    '15JINEqzVMv3SvJTAXAKED', # Eminem - Love The Way You Lie\n",
    "    '69kOkLUCkxIZYexIgSG8rq', # Daft Punk - Get Lucky\n",
    "    '6oVY50pmdXqLNVeK8bzomn', # John Coltrane - My Favorite Things\n",
    "    '6ui6l3ZNvlrGQZArwo8195', # Sex Pistols - God Save The Queen\n",
    "    '0YammaEkYSeo9vQYZ1OwS6', # David Guetta - Say My Name\n",
    "    '4SHZsQIdS2N1E5yqvoXF8o'  # Andy Williams - Can't Take My Eyes Off You\n",
    "]\n",
    "\n",
    "# ------------------------------------------------------------------------------\n",
    "\n",
    "class logger(CallbackAny2Vec):\n",
    "    def __init__(self):\n",
    "        print('Starting...')\n",
    "        self.epoch = 0\n",
    "        self.loss = 0\n",
    "\n",
    "    def on_train_begin(self, model):\n",
    "        self.start = time.time()\n",
    "        print(f'Starting training......')\n",
    "\n",
    "    def on_epoch_end(self, model):\n",
    "        elapsed = time.time() - self.start\n",
    "        print('#{}'.format(self.epoch), 'loss =',\n",
    "              (model.get_latest_training_loss() - self.loss) / batch_words,\n",
    "              'elapsed time =', elapsed // 60, 'minutes', elapsed % 60, 'seconds')\n",
    "        self.epoch += 1\n",
    "        self.loss = model.get_latest_training_loss()\n",
    "        print('Saving model...')\n",
    "        model.save('word2vec.model')\n",
    "        # _model = gensim.models.Word2Vec.load('word2vec.model')\n",
    "        # for track in valid_examples:\n",
    "        #     similar = _model.wv.most_similar(positive=[track], topn=8)\n",
    "        #     most_similar = ''\n",
    "        #     for i in range(0, 8):\n",
    "        #         most_similar = most_similar + '%s (%.2f)' % (tracks[similar[i][0]][0], similar[i][1]) + ', '\n",
    "        #     print('  %s -> %s' % (tracks[track][0], most_similar))\n",
    "        # print()\n",
    "        # del _model"
   ]
  },
  {
   "cell_type": "code",
   "execution_count": 60,
   "metadata": {
    "collapsed": true,
    "jupyter": {
     "outputs_hidden": true
    },
    "tags": []
   },
   "outputs": [
    {
     "output_type": "stream",
     "name": "stdout",
     "text": "Starting...\nStarting training......\n#0 loss = 8123.3512 elapsed time = 19.0 minutes 46.67325305938721 seconds\nSaving model...\n#1 loss = 2663.0968 elapsed time = 39.0 minutes 3.927161931991577 seconds\nSaving model...\n#2 loss = 2610.2576 elapsed time = 58.0 minutes 25.13147783279419 seconds\nSaving model...\n#3 loss = 25.0672 elapsed time = 76.0 minutes 50.87499690055847 seconds\nSaving model...\n#4 loss = 0.0 elapsed time = 94.0 minutes 47.31240892410278 seconds\nSaving model...\n#5 loss = 0.0 elapsed time = 113.0 minutes 40.097012996673584 seconds\nSaving model...\n#6 loss = 0.0 elapsed time = 132.0 minutes 56.45785689353943 seconds\nSaving model...\n#7 loss = 0.0 elapsed time = 152.0 minutes 10.723788022994995 seconds\nSaving model...\n#8 loss = 0.0 elapsed time = 171.0 minutes 36.7718939781189 seconds\nSaving model...\n#9 loss = 0.0 elapsed time = 190.0 minutes 14.955538749694824 seconds\nSaving model...\nWord2Vec(vocab=2924687, size=100, alpha=0.025)\n"
    }
   ],
   "source": [
    "model = gensim.models.Word2Vec(sentences=playlists, size=embedding_dim,\n",
    "                               min_count=min_count, window=window, iter=iter,\n",
    "                               batch_words=batch_words, compute_loss=True, sg=True,\n",
    "                               callbacks=[logger()],workers=4)\n",
    "print(model)"
   ]
  },
  {
   "cell_type": "code",
   "execution_count": 62,
   "metadata": {},
   "outputs": [],
   "source": [
    "model.save('song2vec.model')"
   ]
  },
  {
   "cell_type": "code",
   "execution_count": 63,
   "metadata": {},
   "outputs": [],
   "source": [
    "# model.wv.save_word2vec_format(fname='song2vec.bin',fvocab='songVocab.bin',binary=True)"
   ]
  },
  {
   "cell_type": "code",
   "execution_count": 10,
   "metadata": {
    "tags": []
   },
   "outputs": [
    {
     "output_type": "stream",
     "name": "stdout",
     "text": "Word2Vec(vocab=2924687, size=100, alpha=0.025)\n"
    }
   ],
   "source": [
    "import gensim\n",
    "\n",
    "model = gensim.models.Word2Vec.load('song2vec.model')\n",
    "print(model)"
   ]
  },
  {
   "cell_type": "code",
   "execution_count": 11,
   "metadata": {
    "tags": []
   },
   "outputs": [
    {
     "output_type": "stream",
     "name": "stdout",
     "text": "Read in tracks...\nNumber of tracks: 19817445\n"
    }
   ],
   "source": [
    "print('Read in tracks...')\n",
    "tracks = {}\n",
    "with open('tracks.csv', \"r\", encoding='utf-8') as csvfile:\n",
    "    spamreader = csv.reader(csvfile, delimiter=';')\n",
    "    for row in spamreader:\n",
    "        columns = str(row)[2:-2].split(';')\n",
    "        tracks[columns[0]] = [columns[1] + ' - ' +\n",
    "                              columns[2], columns[3]] # title - artist, url\n",
    "print(f'Number of tracks: {len(tracks)}')"
   ]
  },
  {
   "cell_type": "code",
   "execution_count": 13,
   "metadata": {
    "tags": []
   },
   "outputs": [
    {
     "output_type": "stream",
     "name": "stdout",
     "text": "The Police - Roxanne -> The Police - Can't Stand Losing You (0.83), The Police - Don't Stand So Close To Me (0.83), The Police - So Lonely (0.82), The Police - Message In A Bottle (0.82), Peter Gabriel - Sledgehammer - Live (0.81), U2 - Sunday Bloody Sunday (0.81), The Police - Roxanne (0.81), The Police - Every Little Thing She Does Is Magic (0.81), The Police - Walking On The Moon (0.80), Midnight Oil - Beds Are Burning (0.80), Queen - I Want To Break Free - Remastered 2011 (0.80), The Rolling Stones - Start Me Up - 2009 Re-Mastered Digital Version (0.80), Sting - Englishman In New York (0.80), The Police - Message In A Bottle (0.80), The Police - Every Breath You Take (0.80), Queen - Crazy Little Thing Called Love (0.80), Europe - The Final Countdown (0.79), U2 - Pride (In The Name Of Love) (0.79), Roy Orbison - Oh, Pretty Woman (0.79), The Police - Every Little Thing She Does Is Magic (0.79), \n  A Tribe Called Quest - Can I Kick It? -> A Tribe Called Quest - Electric Relaxation (0.89), Souls Of Mischief - 93 'Til Infinity (0.85), A Tribe Called Quest - Award Tour (0.85), A Tribe Called Quest - Check the Rhime (0.83), A Tribe Called Quest - Buggin' Out (0.83), A Tribe Called Quest - Can I Kick It? (0.83), A Tribe Called Quest - Scenario (0.82), A Tribe Called Quest - Luck of Lucien (0.82), The Pharcyde - Passin' Me By (0.81), Nas - The World Is Yours (0.80), A Tribe Called Quest - Jazz (We've Got) (0.80), A Tribe Called Quest - Bonita Applebum - includes 'Can I Kick It' Intro (0.80), The Pharcyde - Passin' Me By (0.80), Wu-Tang Clan - C.R.E.A.M. (0.80), The Pharcyde - Runnin' (0.79), Naughty By Nature - Hip Hop Hooray (0.79), Naughty By Nature - Feel Me Flow (0.79), A Tribe Called Quest - I Left My Wallet in El Segundo (0.79), A Tribe Called Quest - Check the Rhime (0.79), The Pharcyde - Runnin' (0.79), \n  James Brown - Get Up Offa That Thing -> James Brown - I Got You (I Feel Good) (0.84), James Brown - Get Up (I Feel Like Being A) Sex Machine - Pt. 1 & 2 (0.80), James Brown - Papa's Got A Brand New Bag (0.79), James Brown & The Famous Flames - I Got You (I Feel Good) (0.76), Kool & The Gang - Jungle Boogie (0.76), James Brown - Get Up Offa That Thing (0.76), Diana Ross & The Supremes - Love Child (0.76), The O'Jays - Love Train (0.76), The Isley Brothers - Twist & Shout (0.75), The Jackson 5 - ABC (0.75), Sly & The Family Stone - Dance to the Music (0.75), James Brown - I Got The Feelin' (0.75), Stevie Wonder - Sir Duke (0.75), The Jackson 5 - ABC (0.75), Kool & The Gang - Jungle Boogie (0.74), The Jackson 5 - ABC (0.74), Sly & The Family Stone - Dance to the Music (0.74), Stevie Wonder - I Wish - Single Edit (0.74), Marvin Gaye - Got To Give It Up (Part 1) (0.74), The Isley Brothers - Twist And Shout (0.74), \n  Nirvana - Smells Like Teen Spirit -> Nirvana - Come As You Are (0.89), Nirvana - Lithium (0.88), Bon Jovi - Livin' On A Prayer (0.81), Nirvana - Heart-Shaped Box (0.80), Bon Jovi - It's My Life (0.78), Nirvana - Smells Like Teen Spirit (0.78), Nirvana - In Bloom - Nevermind Version (0.77), Michael Jackson - Thriller - Single Version (0.77), Lynyrd Skynyrd - Sweet Home Alabama (0.77), The Rock Masters - You Shook Me All Night Long (0.77), Green Day - American Idiot (0.77), Blur - Song 2 (0.77), Black Sabbath - Iron Man (0.76), Europe - The Final Countdown (0.76), The Offspring - You're Gonna Go Far, Kid (0.76), The Rock Masters - Highway to Hell (0.76), Nirvana - Breed (0.76), Oasis - Wonderwall (0.76), AC/DC Tribute Band - Thunderstruck (0.76), The Offspring - Self Esteem (0.76), \n  Bob Marley & The Wailers - Three Little Birds -> Bob Marley & The Wailers - One Love / People Get Ready (0.91), Bob Marley & The Wailers - Buffalo Soldier (0.88), Bob Marley & The Wailers - Could You Be Loved (0.86), Bob Marley & The Wailers - Jamming (0.85), Bob Marley & The Wailers - Stir It Up - Original Album Version (0.84), Bob Marley & The Wailers - No Woman, No Cry - Live At The Lyceum, London/1975 (0.84), Bob Marley & The Wailers - Jamming (0.83), Bob Marley & The Wailers - Is This Love (0.82), Bob Marley & The Wailers - Three Little Birds (0.82), Bob Marley & The Wailers - Three Little Birds (0.81), Bob Marley & The Wailers - One Love (0.80), Bob Marley & The Wailers - No Woman No Cry (0.80), Bob Marley & The Wailers - One Love / People Get Ready - Medley (0.80), The Wailers - I Shot The Sheriff (0.80), Bob Marley & The Wailers - No Woman No Cry (0.80), Bob Marley & The Wailers - Is This Love (0.79), Bob Marley & The Wailers - Is This Love (0.79), Bob Marley & The Wailers - Is This Love (0.79), Bob Marley & The Wailers - Buffalo Soldier (0.78), Bob Marley & The Wailers - Waiting In Vain (0.77), \n  The Cure - Just like Heaven -> The Cure - Boys Don't Cry - Single Version (0.91), The Cure - In Between Days - 2006 Remaster (0.89), The Cure - Lovesong - 2010 Remaster (0.88), The Cure - Pictures of You - 2010 Remaster (0.88), The Cure - Close to Me - 2006 Remaster (0.87), The Cure - Friday I'm in Love (0.87), The Cure - Boys Don't Cry (0.83), The Cure - Pictures of You - 2010 Remaster (0.82), The Cure - World War (0.82), Echo & the Bunnymen - Lips Like Sugar (0.82), The Cure - In Between Days (0.81), The Cure - Close to Me (0.81), Modern English - I Melt With You - Rerecorded (0.81), The Cure - Why Can't I Be You? (0.81), The Cure - Mint Car (0.81), The Cure - All I Want (0.81), The Cure - Why Can't I Be You? - 2006 Remaster (0.80), The Cure - High (0.80), The Cure - Inbetween Days (0.80), Modern English - I Melt with You (7\" Mix) (0.80), \n  Frank Sinatra - My Way -> Frank Sinatra - Theme From New York, New York (0.80), Frank Sinatra - Fly Me To The Moon (0.79), Louis Armstrong - What A Wonderful World (0.78), Frank Sinatra - I've Got You Under My Skin (0.77), Frank Sinatra - Strangers In The Night (0.76), Frank Sinatra - The Way You Look Tonight (0.75), Frank Sinatra - I Get a Kick Out of You (0.75), Frank Sinatra - I've Got You Under My Skin - Remastered 1998 (0.74), Frank Sinatra - My Way - Remastered 2008 (0.74), Frank Sinatra - Strangers In The Night (0.74), Frank Sinatra - It's A Wonderful World (0.73), Frank Sinatra - I'll Never Smile Again (0.73), The Platters - Only You (And You Alone) (0.73), Frank Sinatra - New York, New York - Live At The Meadowlands Arena/1986 (0.72), Neil Diamond - Sweet Caroline (0.72), Frank Sinatra - Somethin' Stupid (0.72), Frank Sinatra - Fly Me To The Moon (0.72), Tom Jones - Delilah (0.72), Frank Sinatra - My Funny Valentine (0.72), Dean Martin - Mambo Italiano (0.72), \n  The Clash - Rock the Casbah -> Madness - Our House (0.81), New Order - Blue Monday (0.81), The Police - Message In A Bottle (0.79), Simple Minds - Don't You (Forget About Me) (0.79), Marvin Gaye - Sexual Healing (0.79), The Clash - Should I Stay or Should I Go (0.79), James Brown - Living In America (0.79), Thompson Twins - Hold Me Now (0.78), Terence Trent D'Arby - Wishing Well (0.78), Terence Trent D'Arby - Wishing Well (0.78), Europe - The Final Countdown (0.78), Loverboy - Working for the Weekend (0.78), Depeche Mode - Just Can't Get Enough - 2006 Digital Remaster (0.78), TOTO - Rosanna (0.78), Depeche Mode - People Are People - 2006 Digital Remaster (0.78), The Clash - Rock the Casbah (0.78), Nena - 99 Luftballons (0.78), Living Colour - Cult of Personality (0.77), Robert Palmer - Addicted To Love - Edit (0.77), Adam & The Ants - Stand and Deliver (0.77), \n  The Rolling Stones - Sympathy For The Devil -> The Rolling Stones - Paint It, Black - (Original Single Mono Version) (0.89), The Rolling Stones - Gimme Shelter (0.87), The Rolling Stones - You Can't Always Get What You Want (0.82), The Rolling Stones - (I Can't Get No) Satisfaction - Mono Version (0.82), The Rolling Stones - Brown Sugar - 2009 Mix (0.81), The Rolling Stones - Jumpin' Jack Flash - Mono Version (0.80), The Rolling Stones - Wild Horses - 2009 Mix (0.80), The Rolling Stones - Paint It, Black (0.79), The Rolling Stones - Jumping Jack Flash - Live At The Beacon Theatre, New York / 2006 (0.79), Creedence Clearwater Revival - Bad Moon Rising (0.79), The Rolling Stones - Jumpin' Jack Flash - Mono Version (0.79), The Rolling Stones - Stray Cat Blues (0.79), The Rolling Stones - Brown Sugar (0.78), The Rolling Stones - Street Fighting Man (0.78), The Rolling Stones - Sympathy For The Devil - (Original Single Stereo Version) (0.78), The Rolling Stones - Paint It, Black (0.78), The Rolling Stones - Sympathy For The Devil - 50th Anniversary Edition (0.78), The Rolling Stones - Can't You Hear Me Knocking - 2009 Mix (0.78), The Rolling Stones - Start Me Up - Remastered (0.78), The Rolling Stones - Beast Of Burden - Remastered (0.78), \n  The Doors - Light My Fire -> The Doors - Break on Through (To the Other Side) (0.94), The Doors - Riders on the Storm (0.90), The Doors - L.A. Woman (0.88), The Doors - Roadhouse Blues (0.88), The Doors - Hello, I Love You (0.88), The Doors - People Are Strange (0.87), The Doors - Love Her Madly (0.87), The Doors - Love Me Two Times (0.86), The Doors - Touch Me (0.85), Jefferson Airplane - Somebody to Love (0.81), The Doors - Alabama Song (Whisky Bar) (0.80), The Doors - The End (0.80), The Doors - I Looked at You (0.80), The Doors - Light My Fire - 2017 Remaster (0.80), The Doors - The End (0.79), The Doors - The WASP (Texas Radio and the Big Beat) (0.79), The Doors - The Crystal Ship (0.79), The Doors - Break on Through (To the Other Side) - New Stereo Mix (0.78), The Doors - Back Door Man (0.78), The Doors - Take It as It Comes (0.78), \n  Eminem - Love The Way You Lie -> Eminem - Not Afraid (0.92), Eminem - The Monster (0.89), Eminem - Space Bound (0.87), Eminem - No Love (0.85), Eminem - The Monster (0.84), Eminem - Mockingbird (0.83), Bad Meets Evil - Lighters (0.83), Eminem - Rap God (0.82), Eminem - The Real Slim Shady (0.81), Eminem - Lose Yourself - From \"8 Mile\" Soundtrack (0.81), Eminem - Like Toy Soldiers (0.81), Rihanna - Love The Way You Lie (Part II) - Pt. 2 (0.81), Eminem - 25 To Life (0.80), Eminem - Love The Way You Lie (0.80), Eminem - Without Me (0.80), Rihanna - Love The Way You Lie (Part II) - Pt. 2 (0.80), Eminem - Beautiful (0.79), Eminem - Stan (0.79), Eminem - When I'm Gone (0.78), Eminem - Cinderella Man (0.78), \n  Daft Punk - Get Lucky (feat. Pharrell Williams & Nile Rodgers) -> Daft Punk - Get Lucky (feat. Pharrell Williams & Nile Rodgers) - Radio Edit (0.94), Daft Punk - Lose Yourself to Dance (feat. Pharrell Williams) (0.89), Daft Punk - One More Time (0.84), Daft Punk - Instant Crush (feat. Julian Casablancas) (0.84), Daft Punk - Give Life Back to Music (0.83), Daft Punk - Harder, Better, Faster, Stronger (0.80), Daft Punk - Doin' it Right (feat. Panda Bear) (0.79), Daft Punk - Giorgio by Moroder (0.78), Daft Punk - Around the World (0.77), Daft Punk - The Game of Love (0.76), Daft Punk - Digital Love (0.75), Daft Punk - Fragments of Time (feat. Todd Edwards) (0.75), Daft Punk - Touch (feat. Paul Williams) (0.75), Daft Punk - Beyond (0.75), Daft Punk - Aerodynamic (0.74), Daft Punk - Derezzed - From \"TRON: Legacy\"/Score (0.74), Daft Punk - Harder, Better, Faster, Stronger (0.73), Daft Punk - Da Funk (0.73), Daft Punk - Within (0.73), Daft Punk - Da Funk (0.73), \n  John Coltrane - My Favorite Things -> Duke Ellington - Jeep's Blues (0.84), John Coltrane - Naima (0.83), Duke Ellington - Take The “A” Train (0.82), John Coltrane Quartet - A Love Supreme Part I: Acknowledgement (0.82), Dave Brubeck - Blue Rondo à la Turk (0.81), John Coltrane - My Shining Hour (0.81), Duke Ellington - Haupe (0.81), Louis Armstrong - Solitude - 1990 Remaster (0.81), Miles Davis - Au Privave (0.81), The Dave Brubeck Quartet - Take Five (0.81), Benny Goodman - Ain't Misbehavin' (0.81), Roy Hargrove - Strasbourg / St. Denis (0.81), Herbie Hancock - Cantaloupe Island (0.81), Chris Connor - Lullaby of Birdland (0.80), John Coltrane - Central Park West (0.80), Duke Ellington - Take The \"A\" Train (0.80), Dizzy Gillespie - All the Things You Are (0.80), Louis Armstrong - They Can’t Take That Away from Me (0.80), Vince Guaraldi - Great Pumpkin Waltz (0.80), Miles Davis - Bye Bye Blackbird (0.80), \n  Sex Pistols - God Save the Queen -> Sex Pistols - Anarchy in the U.K. (0.90), Sex Pistols - Pretty Vacant (0.82), Sex Pistols - Anarchy In the UK (0.81), Sex Pistols - Problems (0.80), Sex Pistols - Seventeen (0.80), Sex Pistols - EMI (0.80), Sex Pistols - Bodies (0.80), Sex Pistols - Holidays in the Sun (0.80), Sex Pistols - Sub-Mission (0.80), The Stooges - Search and Destroy (0.80), Dead Kennedys - Kill the Poor (0.79), Sex Pistols - New York (0.78), The Damned - Neat Neat Neat (0.78), Ramones - Rock 'N' Roll High School - Remastered (0.78), The Vandals - Anarchy Burger (Hold The Government) (0.78), Ramones - I Wanna Be Sedated (0.78), Ramones - Chinese Rock (0.78), Sex Pistols - Liar (0.77), Buzzcocks - What Do I Get? (0.77), The Clash - Revolution Rock (0.77), \n  David Guetta - Say My Name -> Ava Max - Sweet but Psycho (0.83), Alesso - REMEDY (0.80), Rita Ora - Let You Love Me (0.80), David Guetta - Say My Name (0.80), David Guetta - Don't Leave Me Alone (feat. Anne-Marie) (0.80), Bebe Rexha - I'm a Mess (0.80), INNA - No Help (0.79), David Guetta - Say My Name (0.79), Jason Derulo - Goodbye (feat. Nicki Minaj & Willy William) (0.79), Cris Cab - Just Wanna Love You (feat. J. Balvin) (0.79), David Guetta - Let It Be Me (feat. Ava Max) (0.79), Lost Frequencies - Crazy (0.79), David Guetta - Flames (0.78), ALMA - Perfect (0.78), David Guetta - Like I Do (0.78), Jason Derulo - Goodbye (feat. Nicki Minaj & Willy William) (0.77), Martin Garrix - Burn Out (feat. Dewain Whitmore) (0.77), Iuliana - Fire Flame (0.77), Lost Frequencies - Like I Love You (0.77), Sigala - Just Got Paid (0.77), \n  Andy Williams - Can't Take My Eyes Off You -> Frank Sinatra - I ve Got You Under My Skin (0.83), Louis Armstrong - What A Wonderful World (0.83), Andy Williams - Can't Take My Eyes Off You (0.82), The Kisslcats - Put Your Hand On My Shoulder (0.81), Dean Martin - Everybody Loves Somebody - Dream with Dean Version (0.81), Andy Williams - Can't Take My Eyes Off You (0.81), Frank Sinatra - The Way You Look Tonight - Remastered 2008 (0.80), Diana Krall - The Look Of Love (0.80), Frank Sinatra - The Way You Look Tonight - Remastered 2008 (0.80), Tony Bennett - The Way You Look Tonight (0.80), Frank Sinatra - It Had To Be You - 2009 Remaster (0.80), Paul Anka - Save the Last Dance for Me (0.80), Andy Williams - SOMETHING STUPID (0.80), Andy Williams - Moon River (0.80), Nat King Cole - Unforgettable (0.80), Frank Sinatra - They Say It's Wonderfull (0.80), Nat King Cole - If I Give My Heart To You (0.80), Frank Sinatra - It Had to Be You (0.79), Tony Bennett - One for My Baby (And One More for the Road) (0.79), The Platters - Only You (And You Alone) - Single Version (0.79), \n"
    }
   ],
   "source": [
    "for track in valid_examples:\n",
    "            similar = model.wv.most_similar(positive=[track], topn=20)\n",
    "            most_similar = ''\n",
    "            for i in range(0, 20):\n",
    "                most_similar = most_similar + '%s (%.2f)' % (tracks[similar[i][0]][0], similar[i][1]) + ', '\n",
    "            print('  %s -> %s' % (tracks[track][0], most_similar))"
   ]
  },
  {
   "cell_type": "code",
   "execution_count": null,
   "metadata": {},
   "outputs": [],
   "source": []
  }
 ],
 "metadata": {
  "kernelspec": {
   "display_name": "Python 3",
   "language": "python",
   "name": "python3"
  },
  "language_info": {
   "codemirror_mode": {
    "name": "ipython",
    "version": 3
   },
   "file_extension": ".py",
   "mimetype": "text/x-python",
   "name": "python",
   "nbconvert_exporter": "python",
   "pygments_lexer": "ipython3",
   "version": "3.8.3-final"
  }
 },
 "nbformat": 4,
 "nbformat_minor": 4
}