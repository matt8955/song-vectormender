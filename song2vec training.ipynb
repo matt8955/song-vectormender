{
 "cells": [
  {
   "cell_type": "code",
   "execution_count": 1,
   "metadata": {},
   "outputs": [
    {
     "output_type": "execute_result",
     "data": {
      "text/plain": "131072"
     },
     "metadata": {},
     "execution_count": 1
    }
   ],
   "source": [
    "import os\n",
    "import csv\n",
    "import time\n",
    "import gensim\n",
    "from gensim.models.callbacks import CallbackAny2Vec\n",
    "\n",
    "csv.field_size_limit(1000000)"
   ]
  },
  {
   "cell_type": "code",
   "execution_count": 4,
   "metadata": {
    "tags": []
   },
   "outputs": [
    {
     "output_type": "stream",
     "name": "stdout",
     "text": "Read in tracks...\nNumber of tracks: 9724993\nRead in playlists...\nNumber of playlists: 717586\n"
    }
   ],
   "source": [
    "print('Read in tracks...')\n",
    "tracks = {}\n",
    "with open('tracks.csv', \"r\", encoding='utf-8') as csvfile:\n",
    "    spamreader = csv.reader(csvfile, delimiter=';')\n",
    "    for row in spamreader:\n",
    "        columns = str(row)[2:-2].split(';')\n",
    "        tracks[columns[0]] = [columns[1] + ' - ' +\n",
    "                              columns[2], columns[3]] # title - artist, url\n",
    "print(f'Number of tracks: {len(tracks)}')\n",
    "\n",
    "print('Read in playlists...')\n",
    "playlists = []\n",
    "with open('playlists.csv', 'r', encoding='utf-8') as csvfile:\n",
    "    spamreader = csv.reader(csvfile, delimiter=';')\n",
    "    for row in spamreader:\n",
    "        columns = str(row)[2:-2].split(';')\n",
    "        if len(columns) < 1000:\n",
    "            playlist = []\n",
    "            for column in columns[2:]:\n",
    "                playlist.append(column)\n",
    "            playlists.append(playlist)\n",
    "print(f'Number of playlists: {len(playlists)}')"
   ]
  },
  {
   "cell_type": "code",
   "execution_count": 14,
   "metadata": {},
   "outputs": [],
   "source": [
    "min_count = 100      # minimum number of occurences of a track in all playlists\n",
    "window = 4          # length of sequences\n",
    "embedding_dim = 100 # number of dimensions in hidden layer\n",
    "batch_words = 10000 # number of tracks to process in each batch\n",
    "iter = 15           # number of iterations\n",
    "# sg = 1              # skip-gram (1) or Continuous Bag Of Words (0)\n",
    "\n",
    "# ------------------------------------------------------------------------------\n",
    "\n",
    "valid_examples = [\n",
    "    '2NMgVh5qaPprKTEzFe3501', # The Police - Roxanne\n",
    "    '3Ti0GdlrotgwsAVBBugv0I', # A Tribe Called Quest - Can I Kick It?\n",
    "    '0nyrltZrQGAJMBZc1bYvuQ', # James Brown - Get Up Offa That Thing\n",
    "    '4hy4fb5D1KL50b3sng9cjw', # Nirvana - Smells Like Teen Spirit\n",
    "    '1P49MJhU5vzttesFxw3dOM', # Bob Marley & The Wailers - Three Little Birds\n",
    "    '76GlO5H5RT6g7y0gev86Nk', # The Cure - Just Like Heaven\n",
    "    '40tAOP3DPqmVD6L1h45Jp6', # Frank Sinatra - My Way\n",
    "    # '4IMvgp0WZqr9mRqpEvDKxI', # The Clash - Rock the Casbah\n",
    "    '1iDcKYNvo6gglrOG6lvnHL', # The Rolling Stones - Sympathy For The Devil\n",
    "    '5uvosCdMlFdTXhoazkTI5R', # The Doors - Light My Fire\n",
    "    '15JINEqzVMv3SvJTAXAKED', # Eminem - Love The Way You Lie\n",
    "    '69kOkLUCkxIZYexIgSG8rq', # Daft Punk - Get Lucky\n",
    "    # '6oVY50pmdXqLNVeK8bzomn', # John Coltrane - My Favorite Things\n",
    "    '6ui6l3ZNvlrGQZArwo8195', # Sex Pistols - God Save The Queen\n",
    "    '0YammaEkYSeo9vQYZ1OwS6', # David Guetta - Say My Name\n",
    "    # '4SHZsQIdS2N1E5yqvoXF8o'  # Andy Williams - Can't Take My Eyes Off You\n",
    "]\n",
    "\n",
    "# ------------------------------------------------------------------------------\n",
    "\n",
    "class logger(CallbackAny2Vec):\n",
    "    def __init__(self):\n",
    "        print('Starting...')\n",
    "        self.epoch = 0\n",
    "        self.loss = 0\n",
    "\n",
    "    def on_train_begin(self, model):\n",
    "        self.start = time.time()\n",
    "\n",
    "    def on_epoch_end(self, model):\n",
    "        elapsed = time.time() - self.start\n",
    "        print('#{}'.format(self.epoch), 'loss =',\n",
    "              (model.get_latest_training_loss() - self.loss) / batch_words,\n",
    "              'elapsed time =', elapsed // 60, 'minutes', elapsed % 60, 'seconds')\n",
    "        self.epoch += 1\n",
    "        self.loss = model.get_latest_training_loss()\n",
    "        print('Saving model...')\n",
    "        model.save('word2vec.model')\n",
    "        _model = gensim.models.Word2Vec.load('word2vec.model')\n",
    "        for track in valid_examples:\n",
    "            similar = _model.wv.most_similar(positive=[track], topn=8)\n",
    "            most_similar = ''\n",
    "            for i in range(0, 8):\n",
    "                most_similar = most_similar + '%s (%.2f)' % (tracks[similar[i][0]][0], similar[i][1]) + ', '\n",
    "            print('  %s -> %s' % (tracks[track][0], most_similar))\n",
    "        print()\n",
    "        del _model"
   ]
  },
  {
   "cell_type": "code",
   "execution_count": 15,
   "metadata": {
    "collapsed": true,
    "jupyter": {
     "outputs_hidden": true
    },
    "tags": [
     "outputPrepend"
    ]
   },
   "outputs": [
    {
     "output_type": "stream",
     "name": "stdout",
     "text": "b Marley & The Wailers - Could You Be Loved (0.77), Bob Marley & The Wailers - Three Little Birds (0.75), Bob Marley & The Wailers - Jamming (0.75), Bob Marley & The Wailers - One Love / People Get Ready - Medley (0.73), Bob Marley & The Wailers - Buffalo Soldier (0.73), Bob Marley & The Wailers - Positive Vibration (0.73), \n  The Cure - Just like Heaven -> The Cure - Lovesong - 2010 Remaster (0.86), The Cure - Friday I'm in Love (0.85), The Cure - Close to Me - 2006 Remaster (0.83), The Cure - Boys Don't Cry - Single Version (0.83), The Cure - In Between Days - 2006 Remaster (0.79), The Cure - Pictures of You - 2010 Remaster (0.79), The Cure - Just like Heaven - 2006 Remaster (0.78), New Order - Age of Consent - 2015 Remaster (0.77), \n  Frank Sinatra - My Way -> Louis Armstrong - What A Wonderful World (0.78), The Beatles - Hey Jude - Remastered 2015 (0.74), Frank Sinatra - Somethin' Stupid (0.73), Louis Armstrong - La vie en rose - Single Version (0.71), Frank Sinatra - Strangers In The Night (0.70), Ella Fitzgerald - Dream A Little Dream Of Me (0.70), Frank Sinatra - Fly Me To The Moon (0.70), Elvis Presley - Can't Help Falling in Love (0.69), \n  The Rolling Stones - Sympathy For The Devil -> The Rolling Stones - Gimme Shelter (0.83), Creedence Clearwater Revival - Bad Moon Rising (0.82), The Rolling Stones - Paint It, Black - (Original Single Mono Version) (0.81), The Doors - People Are Strange (0.78), The Rolling Stones - Sympathy For The Devil - 50th Anniversary Edition (0.77), Jimi Hendrix - Voodoo Child (Slight Return) (0.77), Santana - Black Magic Woman (0.77), Electric Light Orchestra - Evil Woman (0.77), \n  The Doors - Light My Fire -> The Doors - Break on Through (To the Other Side) (0.90), The Doors - Love Her Madly (0.87), The Doors - Love Me Two Times (0.86), The Doors - People Are Strange (0.84), The Doors - Riders on the Storm (0.83), Jimi Hendrix - Hey Joe (0.82), Jimi Hendrix - Purple Haze (0.82), Led Zeppelin - Whole Lotta Love - 1990 Remaster (0.82), \n  Eminem - Love The Way You Lie -> Eminem - Not Afraid (0.82), Eminem - Love The Way You Lie (0.80), B.o.B - Airplanes (feat. Hayley Williams) (0.78), Rihanna - Love The Way You Lie (Part II) - Pt. 2 (0.75), Bad Meets Evil - Lighters (0.74), Eminem - No Love (0.73), Eminem - The Monster (0.73), B.o.B - Nothin' on You (feat. Bruno Mars) (0.72), \n  Daft Punk - Get Lucky (feat. Pharrell Williams & Nile Rodgers) -> Daft Punk - Get Lucky (feat. Pharrell Williams & Nile Rodgers) - Radio Edit (0.91), Daft Punk - Lose Yourself to Dance (feat. Pharrell Williams) (0.85), Daft Punk - One More Time (0.80), Daft Punk - Instant Crush (feat. Julian Casablancas) (0.78), Daft Punk - Harder, Better, Faster, Stronger (0.74), Mark Ronson - Uptown Funk (feat. Bruno Mars) (0.74), Daft Punk - Give Life Back to Music (0.72), Daft Punk - Doin' it Right (feat. Panda Bear) (0.72), \n  Sex Pistols - God Save the Queen -> Sex Pistols - Anarchy in the U.K. (0.86), Sex Pistols - Holidays in the Sun (0.80), Sex Pistols - Pretty Vacant (0.80), Sex Pistols - Bodies (0.75), The Clash - I Fought the Law (0.74), The Clash - I'm so Bored With the U.S.A. - Remastered (0.74), The Clash - London Calling - Remastered (0.74), The Clash - White Riot - Remastered (0.73), \n  David Guetta - Say My Name -> Ava Max - Sweet but Psycho (0.82), Bebe Rexha - I'm a Mess (0.79), Daddy Yankee - Con Calma (0.76), DJ Snake - Taki Taki (with Selena Gomez, Ozuna & Cardi B) (0.76), Lele Pons - Celoso (0.75), Dynoro - In My Mind (0.75), Rita Ora - Let You Love Me (0.75), Alan Walker - Diamond Heart (0.75), \n\n#12 loss = 515.2488 elapsed time = 21.0 minutes 54.42719101905823 seconds\nSaving model...\n  The Police - Roxanne -> The Police - Message In A Bottle (0.76), The Who - Who Are You (0.74), Simple Minds - Don't You (Forget About Me) - 2001 Remastered Version (0.72), The Who - My Generation - Original Mono Version (0.72), The Clash - Should I Stay or Should I Go (0.71), The Rolling Stones - (I Can't Get No) Satisfaction - Mono Version / Remastered 2002 (0.71), Pretenders - Brass in Pocket (0.70), Simon & Garfunkel - Mrs. Robinson (0.70), \n  A Tribe Called Quest - Can I Kick It? -> A Tribe Called Quest - Award Tour (0.78), A Tribe Called Quest - Electric Relaxation (0.78), The Pharcyde - Runnin' (0.77), Ol' Dirty Bastard - Shimmy Shimmy Ya (0.75), A Tribe Called Quest - Check the Rhime (0.75), The Pharcyde - Passin' Me By (0.75), A Tribe Called Quest - Scenario (0.74), Digable Planets - Rebirth Of Slick (Cool Like Dat) (0.74), \n  James Brown - Get Up Offa That Thing -> James Brown - Papa's Got A Brand New Bag (0.78), Marvin Gaye - Got To Give It Up (Part 1) (0.76), Wilson Pickett - Land of 1000 Dances (0.75), Hot Chocolate - You Sexy Thing (0.75), James Brown - Get Up (I Feel Like Being A) Sex Machine - Pt. 1 & 2 (0.75), James Brown - Get Up Offa That Thing (0.75), Sly & The Family Stone - Dance to the Music (0.74), The Isley Brothers - It's Your Thing (0.74), \n  Nirvana - Smells Like Teen Spirit -> The Offspring - Self Esteem (0.80), Nirvana - Come As You Are (0.77), Nirvana - Lithium (0.76), Aerosmith - Cryin' (0.74), Rage Against The Machine - Killing In The Name (0.73), 3 Doors Down - Kryptonite (0.73), Limp Bizkit - Take A Look Around (0.73), Papa Roach - Last Resort (0.73), \n  Bob Marley & The Wailers - Three Little Birds -> Bob Marley & The Wailers - One Love / People Get Ready (0.82), Bob Marley & The Wailers - Is This Love (0.81), Bob Marley & The Wailers - Could You Be Loved (0.77), Bob Marley & The Wailers - Three Little Birds (0.74), Bob Marley & The Wailers - Jamming (0.74), Bob Marley & The Wailers - Three Little Birds (0.73), Bob Marley & The Wailers - Buffalo Soldier (0.73), Bob Marley & The Wailers - One Love / People Get Ready - Medley (0.73), \n  The Cure - Just like Heaven -> The Cure - Lovesong - 2010 Remaster (0.85), The Cure - Boys Don't Cry - Single Version (0.83), The Cure - Close to Me - 2006 Remaster (0.83), The Cure - Friday I'm in Love (0.83), The Cure - Pictures of You - 2010 Remaster (0.79), The Cure - In Between Days - 2006 Remaster (0.78), Joy Division - Love Will Tear Us Apart - 2010 Remaster (0.78), New Order - Age of Consent - 2015 Remaster (0.76), \n  Frank Sinatra - My Way -> Louis Armstrong - What A Wonderful World (0.79), The Beatles - Hey Jude - Remastered 2015 (0.74), Frank Sinatra - Somethin' Stupid (0.73), Frank Sinatra - Fly Me To The Moon (0.71), Louis Armstrong - La vie en rose - Single Version (0.71), Ella Fitzgerald - Dream A Little Dream Of Me (0.70), Dean Martin - That's Amore - 1996 Digital Remaster (0.69), Ben E. King - Stand by Me (0.69), \n  The Rolling Stones - Sympathy For The Devil -> Creedence Clearwater Revival - Bad Moon Rising (0.82), The Rolling Stones - Gimme Shelter (0.80), The Rolling Stones - Paint It, Black - (Original Single Mono Version) (0.80), The Rolling Stones - Paint It, Black (0.77), The Rolling Stones - Sympathy For The Devil - 50th Anniversary Edition (0.77), Jimi Hendrix - Voodoo Child (Slight Return) (0.77), The Doors - People Are Strange (0.77), Electric Light Orchestra - Evil Woman (0.77), \n  The Doors - Light My Fire -> The Doors - Break on Through (To the Other Side) (0.90), The Doors - Love Her Madly (0.87), The Doors - Love Me Two Times (0.86), The Doors - Hello, I Love You (0.83), The Doors - Riders on the Storm (0.82), The Doors - People Are Strange (0.82), Jimi Hendrix - Hey Joe (0.82), The Doors - Roadhouse Blues (0.81), \n  Eminem - Love The Way You Lie -> Eminem - Not Afraid (0.83), B.o.B - Airplanes (feat. Hayley Williams) (0.78), Eminem - Love The Way You Lie (0.78), Bad Meets Evil - Lighters (0.77), Rihanna - Love The Way You Lie (Part II) - Pt. 2 (0.74), Eminem - The Monster (0.73), Eminem - No Love (0.73), Rihanna - Love The Way You Lie (Part II) - Pt. 2 (0.71), \n  Daft Punk - Get Lucky (feat. Pharrell Williams & Nile Rodgers) -> Daft Punk - Get Lucky (feat. Pharrell Williams & Nile Rodgers) - Radio Edit (0.90), Daft Punk - Lose Yourself to Dance (feat. Pharrell Williams) (0.85), Daft Punk - One More Time (0.77), Daft Punk - Instant Crush (feat. Julian Casablancas) (0.77), Daft Punk - Harder, Better, Faster, Stronger (0.73), Mark Ronson - Uptown Funk (feat. Bruno Mars) (0.72), Daft Punk - Doin' it Right (feat. Panda Bear) (0.72), Daft Punk - Give Life Back to Music (0.70), \n  Sex Pistols - God Save the Queen -> Sex Pistols - Anarchy in the U.K. (0.86), Sex Pistols - Holidays in the Sun (0.79), Sex Pistols - Pretty Vacant (0.79), Sex Pistols - Bodies (0.75), The Clash - I Fought the Law (0.75), The Clash - White Riot - Remastered (0.73), The Clash - London Calling - Remastered (0.73), The Clash - I'm so Bored With the U.S.A. - Remastered (0.73), \n  David Guetta - Say My Name -> Ava Max - Sweet but Psycho (0.82), Bebe Rexha - I'm a Mess (0.78), Dynoro - In My Mind (0.77), Daddy Yankee - Con Calma (0.75), Alesso - REMEDY (0.75), Alan Walker - Diamond Heart (0.75), Lele Pons - Celoso (0.73), DJ Snake - Taki Taki (with Selena Gomez, Ozuna & Cardi B) (0.73), \n\n#13 loss = 441.2 elapsed time = 23.0 minutes 26.647613048553467 seconds\nSaving model...\n  The Police - Roxanne -> The Police - Message In A Bottle (0.75), The Who - Who Are You (0.73), Simple Minds - Don't You (Forget About Me) - 2001 Remastered Version (0.72), The Who - My Generation - Original Mono Version (0.71), The Clash - Should I Stay or Should I Go (0.71), The Rolling Stones - (I Can't Get No) Satisfaction - Mono Version / Remastered 2002 (0.70), Pretenders - Brass in Pocket (0.70), Fleetwood Mac - Go Your Own Way (0.70), \n  A Tribe Called Quest - Can I Kick It? -> A Tribe Called Quest - Award Tour (0.78), A Tribe Called Quest - Electric Relaxation (0.78), The Pharcyde - Runnin' (0.77), Digable Planets - Rebirth Of Slick (Cool Like Dat) (0.76), A Tribe Called Quest - Scenario (0.75), A Tribe Called Quest - Check the Rhime (0.75), The Pharcyde - Passin' Me By (0.74), Ol' Dirty Bastard - Shimmy Shimmy Ya (0.74), \n  James Brown - Get Up Offa That Thing -> James Brown - Papa's Got A Brand New Bag (0.79), Marvin Gaye - Got To Give It Up (Part 1) (0.76), James Brown - Get Up (I Feel Like Being A) Sex Machine - Pt. 1 & 2 (0.76), Wilson Pickett - Land of 1000 Dances (0.75), Hot Chocolate - You Sexy Thing (0.75), Sly & The Family Stone - Dance to the Music (0.75), James Brown - Get Up Offa That Thing (0.75), Average White Band - Pick Up the Pieces (0.74), \n  Nirvana - Smells Like Teen Spirit -> The Offspring - Self Esteem (0.80), Nirvana - Come As You Are (0.77), Nirvana - Lithium (0.76), Aerosmith - Cryin' (0.74), Rage Against The Machine - Killing In The Name (0.73), Limp Bizkit - Take A Look Around (0.73), Bon Jovi - Livin' On A Prayer (0.73), Bon Jovi - You Give Love A Bad Name (0.73), \n  Bob Marley & The Wailers - Three Little Birds -> Bob Marley & The Wailers - One Love / People Get Ready (0.82), Bob Marley & The Wailers - Is This Love (0.80), Bob Marley & The Wailers - Could You Be Loved (0.77), Bob Marley & The Wailers - Jamming (0.74), Bob Marley & The Wailers - Three Little Birds (0.74), Bob Marley & The Wailers - Buffalo Soldier (0.73), Bob Marley & The Wailers - Three Little Birds (0.73), Bob Marley & The Wailers - One Love / People Get Ready - Medley (0.73), \n  The Cure - Just like Heaven -> The Cure - Lovesong - 2010 Remaster (0.87), The Cure - Boys Don't Cry - Single Version (0.84), The Cure - Close to Me - 2006 Remaster (0.84), The Cure - Friday I'm in Love (0.84), The Cure - In Between Days - 2006 Remaster (0.81), The Cure - Pictures of You - 2010 Remaster (0.80), Joy Division - Love Will Tear Us Apart - 2010 Remaster (0.78), The Cure - Just like Heaven - 2006 Remaster (0.77), \n  Frank Sinatra - My Way -> Louis Armstrong - What A Wonderful World (0.78), The Beatles - Hey Jude - Remastered 2015 (0.73), Frank Sinatra - Somethin' Stupid (0.73), Louis Armstrong - La vie en rose - Single Version (0.71), Frank Sinatra - Fly Me To The Moon (0.71), Dean Martin - That's Amore - 1996 Digital Remaster (0.70), Ella Fitzgerald - Dream A Little Dream Of Me (0.69), Frank Sinatra - Strangers In The Night (0.69), \n  The Rolling Stones - Sympathy For The Devil -> Creedence Clearwater Revival - Bad Moon Rising (0.83), The Rolling Stones - Paint It, Black - (Original Single Mono Version) (0.79), The Rolling Stones - Gimme Shelter (0.79), The Doors - People Are Strange (0.78), Jimi Hendrix - Voodoo Child (Slight Return) (0.77), Electric Light Orchestra - Evil Woman (0.77), The Rolling Stones - Sympathy For The Devil - 50th Anniversary Edition (0.77), The Rolling Stones - Paint It, Black (0.76), \n  The Doors - Light My Fire -> The Doors - Break on Through (To the Other Side) (0.90), The Doors - Love Her Madly (0.87), The Doors - Love Me Two Times (0.86), The Doors - Riders on the Storm (0.84), The Doors - Hello, I Love You (0.83), Jimi Hendrix - Purple Haze (0.83), Jimi Hendrix - Hey Joe (0.82), Jimi Hendrix - All Along the Watchtower (0.81), \n  Eminem - Love The Way You Lie -> Eminem - Not Afraid (0.84), Bad Meets Evil - Lighters (0.78), Eminem - Love The Way You Lie (0.77), B.o.B - Airplanes (feat. Hayley Williams) (0.76), Eminem - No Love (0.74), Rihanna - Love The Way You Lie (Part II) - Pt. 2 (0.74), Eminem - The Monster (0.73), Eminem - River (feat. Ed Sheeran) (0.71), \n  Daft Punk - Get Lucky (feat. Pharrell Williams & Nile Rodgers) -> Daft Punk - Get Lucky (feat. Pharrell Williams & Nile Rodgers) - Radio Edit (0.91), Daft Punk - Lose Yourself to Dance (feat. Pharrell Williams) (0.85), Daft Punk - One More Time (0.76), Daft Punk - Instant Crush (feat. Julian Casablancas) (0.75), Mark Ronson - Uptown Funk (feat. Bruno Mars) (0.74), Daft Punk - Doin' it Right (feat. Panda Bear) (0.73), Daft Punk - Harder, Better, Faster, Stronger (0.72), Daft Punk - Give Life Back to Music (0.70), \n  Sex Pistols - God Save the Queen -> Sex Pistols - Anarchy in the U.K. (0.86), Sex Pistols - Holidays in the Sun (0.80), Sex Pistols - Pretty Vacant (0.78), Sex Pistols - Bodies (0.75), The Clash - White Riot - Remastered (0.74), The Clash - I Fought the Law (0.74), The Clash - I'm so Bored With the U.S.A. - Remastered (0.74), Dead Kennedys - California Uber Alles (0.74), \n  David Guetta - Say My Name -> Ava Max - Sweet but Psycho (0.79), Dynoro - In My Mind (0.76), Bebe Rexha - I'm a Mess (0.76), Alan Walker - Diamond Heart (0.75), Alesso - REMEDY (0.75), Sean Paul - Mad Love (0.73), Clean Bandit - Solo (feat. Demi Lovato) (0.73), Kris Kross Amsterdam - Whenever (feat. Conor Maynard) (0.73), \n\n#14 loss = 0.0 elapsed time = 25.0 minutes 13.77194094657898 seconds\nSaving model...\n  The Police - Roxanne -> The Police - Message In A Bottle (0.75), The Who - Who Are You (0.73), Simple Minds - Don't You (Forget About Me) - 2001 Remastered Version (0.72), The Who - My Generation - Original Mono Version (0.71), The Clash - Should I Stay or Should I Go (0.71), Pretenders - Brass in Pocket (0.70), The Rolling Stones - (I Can't Get No) Satisfaction - Mono Version / Remastered 2002 (0.70), Bon Jovi - Livin' On A Prayer (0.70), \n  A Tribe Called Quest - Can I Kick It? -> A Tribe Called Quest - Award Tour (0.78), A Tribe Called Quest - Electric Relaxation (0.77), The Pharcyde - Runnin' (0.77), Digable Planets - Rebirth Of Slick (Cool Like Dat) (0.76), A Tribe Called Quest - Scenario (0.76), A Tribe Called Quest - Check the Rhime (0.75), Ol' Dirty Bastard - Shimmy Shimmy Ya (0.74), Wu-Tang Clan - C.R.E.A.M. (0.74), \n  James Brown - Get Up Offa That Thing -> James Brown - Papa's Got A Brand New Bag (0.79), Marvin Gaye - Got To Give It Up (Part 1) (0.76), James Brown - Get Up (I Feel Like Being A) Sex Machine - Pt. 1 & 2 (0.76), Wilson Pickett - Land of 1000 Dances (0.76), Sly & The Family Stone - Dance to the Music (0.75), James Brown - Get Up Offa That Thing (0.75), Hot Chocolate - You Sexy Thing (0.75), Average White Band - Pick Up the Pieces (0.74), \n  Nirvana - Smells Like Teen Spirit -> The Offspring - Self Esteem (0.80), Nirvana - Come As You Are (0.77), Nirvana - Lithium (0.76), Aerosmith - Cryin' (0.74), Rage Against The Machine - Killing In The Name (0.73), Limp Bizkit - Take A Look Around (0.73), Bon Jovi - Livin' On A Prayer (0.73), 3 Doors Down - Kryptonite (0.72), \n  Bob Marley & The Wailers - Three Little Birds -> Bob Marley & The Wailers - One Love / People Get Ready (0.82), Bob Marley & The Wailers - Is This Love (0.80), Bob Marley & The Wailers - Could You Be Loved (0.77), Bob Marley & The Wailers - Jamming (0.74), Bob Marley & The Wailers - Three Little Birds (0.74), Bob Marley & The Wailers - Buffalo Soldier (0.73), Bob Marley & The Wailers - One Love / People Get Ready - Medley (0.73), Bob Marley & The Wailers - Three Little Birds (0.72), \n  The Cure - Just like Heaven -> The Cure - Lovesong - 2010 Remaster (0.87), The Cure - Friday I'm in Love (0.84), The Cure - Boys Don't Cry - Single Version (0.84), The Cure - Close to Me - 2006 Remaster (0.84), The Cure - In Between Days - 2006 Remaster (0.81), The Cure - Pictures of You - 2010 Remaster (0.79), The Cure - Just like Heaven - 2006 Remaster (0.78), New Order - Age of Consent - 2015 Remaster (0.78), \n  Frank Sinatra - My Way -> Louis Armstrong - What A Wonderful World (0.78), The Beatles - Hey Jude - Remastered 2015 (0.73), Frank Sinatra - Somethin' Stupid (0.72), Louis Armstrong - La vie en rose - Single Version (0.71), Frank Sinatra - Fly Me To The Moon (0.71), Dean Martin - That's Amore - 1996 Digital Remaster (0.70), Ella Fitzgerald - Dream A Little Dream Of Me (0.69), Frank Sinatra - Strangers In The Night (0.69), \n  The Rolling Stones - Sympathy For The Devil -> Creedence Clearwater Revival - Bad Moon Rising (0.83), The Rolling Stones - Paint It, Black - (Original Single Mono Version) (0.79), The Rolling Stones - Sympathy For The Devil - 50th Anniversary Edition (0.77), Jimi Hendrix - Voodoo Child (Slight Return) (0.77), The Doors - People Are Strange (0.77), Electric Light Orchestra - Evil Woman (0.77), The Rolling Stones - Paint It, Black (0.76), Stevie Wonder - Superstition (0.76), \n  The Doors - Light My Fire -> The Doors - Break on Through (To the Other Side) (0.89), The Doors - Love Her Madly (0.87), The Doors - Love Me Two Times (0.86), The Doors - Riders on the Storm (0.85), The Doors - Hello, I Love You (0.83), Jimi Hendrix - Purple Haze (0.83), Jimi Hendrix - Hey Joe (0.82), The Rolling Stones - (I Can't Get No) Satisfaction - Mono Version (0.81), \n  Eminem - Love The Way You Lie -> Eminem - Not Afraid (0.85), Bad Meets Evil - Lighters (0.78), B.o.B - Airplanes (feat. Hayley Williams) (0.77), Eminem - Love The Way You Lie (0.75), Eminem - No Love (0.74), Eminem - The Monster (0.74), Rihanna - Love The Way You Lie (Part II) - Pt. 2 (0.72), Rihanna - Love The Way You Lie (Part II) - Pt. 2 (0.71), \n  Daft Punk - Get Lucky (feat. Pharrell Williams & Nile Rodgers) -> Daft Punk - Get Lucky (feat. Pharrell Williams & Nile Rodgers) - Radio Edit (0.90), Daft Punk - Lose Yourself to Dance (feat. Pharrell Williams) (0.84), Daft Punk - One More Time (0.75), Daft Punk - Instant Crush (feat. Julian Casablancas) (0.73), Daft Punk - Doin' it Right (feat. Panda Bear) (0.73), Mark Ronson - Uptown Funk (feat. Bruno Mars) (0.72), Daft Punk - Harder, Better, Faster, Stronger (0.71), Robin Thicke - Blurred Lines (0.70), \n  Sex Pistols - God Save the Queen -> Sex Pistols - Anarchy in the U.K. (0.86), Sex Pistols - Holidays in the Sun (0.80), Sex Pistols - Pretty Vacant (0.78), The Clash - London Calling - Remastered (0.75), Sex Pistols - Bodies (0.75), The Clash - I Fought the Law (0.74), The Clash - I'm so Bored With the U.S.A. - Remastered (0.74), The Clash - White Riot - Remastered (0.74), \n  David Guetta - Say My Name -> Ava Max - Sweet but Psycho (0.76), Alan Walker - Diamond Heart (0.75), Alesso - REMEDY (0.74), Bebe Rexha - I'm a Mess (0.73), Kris Kross Amsterdam - Whenever (feat. Conor Maynard) (0.73), Sean Paul - Mad Love (0.73), Dynoro - In My Mind (0.72), David Guetta - Flames (0.72), \n\nWord2Vec(vocab=79026, size=100, alpha=0.025)\n"
    }
   ],
   "source": [
    "model = gensim.models.Word2Vec(sentences=playlists, size=embedding_dim,\n",
    "                               min_count=min_count, window=window, iter=iter,\n",
    "                               batch_words=batch_words, compute_loss=True, sg=True,\n",
    "                               callbacks=[logger()])\n",
    "print(model)"
   ]
  },
  {
   "cell_type": "code",
   "execution_count": 17,
   "metadata": {},
   "outputs": [],
   "source": [
    "model.save('song2vec')"
   ]
  },
  {
   "cell_type": "code",
   "execution_count": 16,
   "metadata": {},
   "outputs": [],
   "source": [
    "model.wv.save_word2vec_format(fname='song2vec.bin',fvocab='songVocab.bin',binary=True)"
   ]
  },
  {
   "cell_type": "code",
   "execution_count": null,
   "metadata": {},
   "outputs": [],
   "source": []
  }
 ],
 "metadata": {
  "kernelspec": {
   "display_name": "Python 3",
   "language": "python",
   "name": "python3"
  },
  "language_info": {
   "codemirror_mode": {
    "name": "ipython",
    "version": 3
   },
   "file_extension": ".py",
   "mimetype": "text/x-python",
   "name": "python",
   "nbconvert_exporter": "python",
   "pygments_lexer": "ipython3",
   "version": "3.8.3-final"
  }
 },
 "nbformat": 4,
 "nbformat_minor": 4
}