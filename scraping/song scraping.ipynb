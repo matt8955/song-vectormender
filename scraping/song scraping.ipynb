{
 "cells": [
  {
   "cell_type": "code",
   "execution_count": 1,
   "metadata": {},
   "outputs": [
    {
     "name": "stderr",
     "output_type": "stream",
     "text": [
      "unable to import 'smart_open.gcs', disabling that module\n"
     ]
    }
   ],
   "source": [
    "import spotipy\n",
    "import spotipy.oauth2 as oauth2\n",
    "import pandas as pd\n",
    "import time\n",
    "import numpy as np\n",
    "from tqdm import tqdm\n",
    "import warnings\n",
    "warnings.filterwarnings(\"ignore\")\n",
    "import gensim"
   ]
  },
  {
   "cell_type": "code",
   "execution_count": 2,
   "metadata": {},
   "outputs": [],
   "source": [
    "from spotipy.oauth2 import SpotifyClientCredentials\n",
    "\n",
    "client_id='38e94de386924d73b4098a6a28d45070'\n",
    "client_secret='27899e6f31894a6aa3c572268f8658e5'\n",
    "\n",
    "client_credentials_manager = SpotifyClientCredentials(client_id=client_id, client_secret=client_secret)\n",
    "spot = spotipy.Spotify(client_credentials_manager=client_credentials_manager)\n",
    "\n"
   ]
  },
  {
   "cell_type": "code",
   "execution_count": 3,
   "metadata": {},
   "outputs": [],
   "source": [
    "playlist_df = pd.read_csv(\"all_playlists_final.csv\")"
   ]
  },
  {
   "cell_type": "code",
   "execution_count": 5,
   "metadata": {},
   "outputs": [],
   "source": [
    "song_df = pd.read_csv(\"scraped_song_ids_2019.csv\")"
   ]
  },
  {
   "cell_type": "code",
   "execution_count": 6,
   "metadata": {},
   "outputs": [
    {
     "data": {
      "text/html": [
       "<div>\n",
       "<style scoped>\n",
       "    .dataframe tbody tr th:only-of-type {\n",
       "        vertical-align: middle;\n",
       "    }\n",
       "\n",
       "    .dataframe tbody tr th {\n",
       "        vertical-align: top;\n",
       "    }\n",
       "\n",
       "    .dataframe thead th {\n",
       "        text-align: right;\n",
       "    }\n",
       "</style>\n",
       "<table border=\"1\" class=\"dataframe\">\n",
       "  <thead>\n",
       "    <tr style=\"text-align: right;\">\n",
       "      <th></th>\n",
       "      <th>Unnamed: 0</th>\n",
       "      <th>track_num</th>\n",
       "      <th>song_id</th>\n",
       "      <th>playlist_id</th>\n",
       "      <th>playlist_name</th>\n",
       "      <th>user_id</th>\n",
       "      <th>followers</th>\n",
       "    </tr>\n",
       "  </thead>\n",
       "  <tbody>\n",
       "    <tr>\n",
       "      <th>0</th>\n",
       "      <td>0</td>\n",
       "      <td>0</td>\n",
       "      <td>5GPIwdNn1RA4d9rn82oJEM</td>\n",
       "      <td>6wPxZ11UfBZytc94CV72WC</td>\n",
       "      <td>Road Scholar Music - Time Out</td>\n",
       "      <td>m6987rtt6g366efqfmc5wyhyz</td>\n",
       "      <td>1883.0</td>\n",
       "    </tr>\n",
       "    <tr>\n",
       "      <th>1</th>\n",
       "      <td>1</td>\n",
       "      <td>1</td>\n",
       "      <td>1Mtz6qh9llg6ixvuvrE35y</td>\n",
       "      <td>6wPxZ11UfBZytc94CV72WC</td>\n",
       "      <td>Road Scholar Music - Time Out</td>\n",
       "      <td>m6987rtt6g366efqfmc5wyhyz</td>\n",
       "      <td>1883.0</td>\n",
       "    </tr>\n",
       "    <tr>\n",
       "      <th>2</th>\n",
       "      <td>2</td>\n",
       "      <td>2</td>\n",
       "      <td>0Vr1V1qnzuZ361yE8UEY5u</td>\n",
       "      <td>6wPxZ11UfBZytc94CV72WC</td>\n",
       "      <td>Road Scholar Music - Time Out</td>\n",
       "      <td>m6987rtt6g366efqfmc5wyhyz</td>\n",
       "      <td>1883.0</td>\n",
       "    </tr>\n",
       "    <tr>\n",
       "      <th>3</th>\n",
       "      <td>3</td>\n",
       "      <td>3</td>\n",
       "      <td>5J3rrNMF5Vf1sPgYt2mkm2</td>\n",
       "      <td>6wPxZ11UfBZytc94CV72WC</td>\n",
       "      <td>Road Scholar Music - Time Out</td>\n",
       "      <td>m6987rtt6g366efqfmc5wyhyz</td>\n",
       "      <td>1883.0</td>\n",
       "    </tr>\n",
       "    <tr>\n",
       "      <th>4</th>\n",
       "      <td>4</td>\n",
       "      <td>4</td>\n",
       "      <td>1ZHFaq77hBJdSu6flqrPGt</td>\n",
       "      <td>6wPxZ11UfBZytc94CV72WC</td>\n",
       "      <td>Road Scholar Music - Time Out</td>\n",
       "      <td>m6987rtt6g366efqfmc5wyhyz</td>\n",
       "      <td>1883.0</td>\n",
       "    </tr>\n",
       "  </tbody>\n",
       "</table>\n",
       "</div>"
      ],
      "text/plain": [
       "   Unnamed: 0  track_num                 song_id             playlist_id  \\\n",
       "0           0          0  5GPIwdNn1RA4d9rn82oJEM  6wPxZ11UfBZytc94CV72WC   \n",
       "1           1          1  1Mtz6qh9llg6ixvuvrE35y  6wPxZ11UfBZytc94CV72WC   \n",
       "2           2          2  0Vr1V1qnzuZ361yE8UEY5u  6wPxZ11UfBZytc94CV72WC   \n",
       "3           3          3  5J3rrNMF5Vf1sPgYt2mkm2  6wPxZ11UfBZytc94CV72WC   \n",
       "4           4          4  1ZHFaq77hBJdSu6flqrPGt  6wPxZ11UfBZytc94CV72WC   \n",
       "\n",
       "                   playlist_name                    user_id  followers  \n",
       "0  Road Scholar Music - Time Out  m6987rtt6g366efqfmc5wyhyz     1883.0  \n",
       "1  Road Scholar Music - Time Out  m6987rtt6g366efqfmc5wyhyz     1883.0  \n",
       "2  Road Scholar Music - Time Out  m6987rtt6g366efqfmc5wyhyz     1883.0  \n",
       "3  Road Scholar Music - Time Out  m6987rtt6g366efqfmc5wyhyz     1883.0  \n",
       "4  Road Scholar Music - Time Out  m6987rtt6g366efqfmc5wyhyz     1883.0  "
      ]
     },
     "execution_count": 6,
     "metadata": {},
     "output_type": "execute_result"
    }
   ],
   "source": [
    "playlist_df.head()"
   ]
  },
  {
   "cell_type": "code",
   "execution_count": 7,
   "metadata": {},
   "outputs": [
    {
     "data": {
      "text/html": [
       "<div>\n",
       "<style scoped>\n",
       "    .dataframe tbody tr th:only-of-type {\n",
       "        vertical-align: middle;\n",
       "    }\n",
       "\n",
       "    .dataframe tbody tr th {\n",
       "        vertical-align: top;\n",
       "    }\n",
       "\n",
       "    .dataframe thead th {\n",
       "        text-align: right;\n",
       "    }\n",
       "</style>\n",
       "<table border=\"1\" class=\"dataframe\">\n",
       "  <thead>\n",
       "    <tr style=\"text-align: right;\">\n",
       "      <th></th>\n",
       "      <th>Unnamed: 0</th>\n",
       "      <th>song_id</th>\n",
       "      <th>artist</th>\n",
       "      <th>track</th>\n",
       "      <th>popularity</th>\n",
       "    </tr>\n",
       "  </thead>\n",
       "  <tbody>\n",
       "    <tr>\n",
       "      <th>0</th>\n",
       "      <td>0</td>\n",
       "      <td>1znOBqj7UdG0CZcOJMn5zu</td>\n",
       "      <td>Phil Collins</td>\n",
       "      <td>All of My Life - 2016 Remaster</td>\n",
       "      <td>47</td>\n",
       "    </tr>\n",
       "    <tr>\n",
       "      <th>1</th>\n",
       "      <td>1</td>\n",
       "      <td>0jj0UaTbrr1IA24fiOJavo</td>\n",
       "      <td>Kolpa</td>\n",
       "      <td>Ölünmüyor Mutsuzluktan</td>\n",
       "      <td>22</td>\n",
       "    </tr>\n",
       "    <tr>\n",
       "      <th>2</th>\n",
       "      <td>2</td>\n",
       "      <td>3GeGYkJIP9c7JN5cpu6h2Z</td>\n",
       "      <td>AC/DC</td>\n",
       "      <td>Hell Ain't a Bad Place to Be</td>\n",
       "      <td>41</td>\n",
       "    </tr>\n",
       "    <tr>\n",
       "      <th>3</th>\n",
       "      <td>3</td>\n",
       "      <td>0ubuRswGoO0BjJucrTR3Tm</td>\n",
       "      <td>Black Stone Cherry</td>\n",
       "      <td>Remember Me</td>\n",
       "      <td>24</td>\n",
       "    </tr>\n",
       "    <tr>\n",
       "      <th>4</th>\n",
       "      <td>4</td>\n",
       "      <td>2vXm1t3rtVP5SxsTRVUb3g</td>\n",
       "      <td>Stoondio</td>\n",
       "      <td>ภาพจำ</td>\n",
       "      <td>20</td>\n",
       "    </tr>\n",
       "  </tbody>\n",
       "</table>\n",
       "</div>"
      ],
      "text/plain": [
       "   Unnamed: 0                 song_id              artist  \\\n",
       "0           0  1znOBqj7UdG0CZcOJMn5zu        Phil Collins   \n",
       "1           1  0jj0UaTbrr1IA24fiOJavo               Kolpa   \n",
       "2           2  3GeGYkJIP9c7JN5cpu6h2Z               AC/DC   \n",
       "3           3  0ubuRswGoO0BjJucrTR3Tm  Black Stone Cherry   \n",
       "4           4  2vXm1t3rtVP5SxsTRVUb3g            Stoondio   \n",
       "\n",
       "                            track  popularity  \n",
       "0  All of My Life - 2016 Remaster          47  \n",
       "1          Ölünmüyor Mutsuzluktan          22  \n",
       "2    Hell Ain't a Bad Place to Be          41  \n",
       "3                     Remember Me          24  \n",
       "4                           ภาพจำ          20  "
      ]
     },
     "execution_count": 7,
     "metadata": {},
     "output_type": "execute_result"
    }
   ],
   "source": [
    "song_df.head()"
   ]
  },
  {
   "cell_type": "code",
   "execution_count": 8,
   "metadata": {},
   "outputs": [],
   "source": [
    "joined = pd.merge(left=playlist_df,right=song_df, how= 'left', on = 'song_id')"
   ]
  },
  {
   "cell_type": "code",
   "execution_count": 19,
   "metadata": {},
   "outputs": [],
   "source": [
    "missing_songs = joined[joined.artist.isna()].song_id"
   ]
  },
  {
   "cell_type": "code",
   "execution_count": 24,
   "metadata": {},
   "outputs": [
    {
     "data": {
      "text/plain": [
       "118313622"
      ]
     },
     "execution_count": 24,
     "metadata": {},
     "output_type": "execute_result"
    }
   ],
   "source": [
    "joined.shape[0] - missing_songs.shape[0]"
   ]
  },
  {
   "cell_type": "code",
   "execution_count": 45,
   "metadata": {},
   "outputs": [],
   "source": [
    "df = pd.DataFrame(missing_songs)\n",
    "df_unique = pd.DataFrame(df.song_id.unique())\n",
    "df_unique.columns = ['ids']"
   ]
  },
  {
   "cell_type": "code",
   "execution_count": 46,
   "metadata": {},
   "outputs": [],
   "source": [
    "df_unique.to_csv('songs_to_scrape_2020.csv')"
   ]
  },
  {
   "cell_type": "code",
   "execution_count": 50,
   "metadata": {},
   "outputs": [
    {
     "data": {
      "text/plain": [
       "2620212"
      ]
     },
     "execution_count": 50,
     "metadata": {},
     "output_type": "execute_result"
    }
   ],
   "source": [
    "song_ids = list(df_unique.ids)\n",
    "len(song_ids)"
   ]
  },
  {
   "cell_type": "code",
   "execution_count": 51,
   "metadata": {},
   "outputs": [],
   "source": [
    "#missing feat\n",
    "def get_track_artist(song_id):\n",
    "    result =  spot.track(song_id)\n",
    "    artist = result['artists'][0]['name']\n",
    "    track = result['name']\n",
    "    popularity = result['popularity']\n",
    "    x = {'song_id': [song_id], 'artist': [artist], 'track': [track], 'popularity': [popularity]}\n",
    "    df = pd.DataFrame(data=x)\n",
    "    return df"
   ]
  },
  {
   "cell_type": "code",
   "execution_count": 52,
   "metadata": {},
   "outputs": [
    {
     "name": "stderr",
     "output_type": "stream",
     "text": [
      "100%|██████████| 200000/200000 [4:17:33<00:00, 12.94it/s]   \n"
     ]
    }
   ],
   "source": [
    "song_frames = []\n",
    "fails = []\n",
    "\n",
    "for i in tqdm(range(0,200000)):\n",
    "    try:\n",
    "        df = get_track_artist(song_ids[i])\n",
    "        song_frames.append(df)\n",
    "    except:\n",
    "        fails.append(song_ids[i])"
   ]
  },
  {
   "cell_type": "code",
   "execution_count": 54,
   "metadata": {},
   "outputs": [],
   "source": [
    "df = pd.concat(song_frames)"
   ]
  },
  {
   "cell_type": "code",
   "execution_count": 55,
   "metadata": {},
   "outputs": [],
   "source": [
    "df.to_csv('scraped_song_ids_2019.csv', mode='a', header=False)\n",
    "pd.DataFrame(fails).to_csv('fails.csv')"
   ]
  },
  {
   "cell_type": "code",
   "execution_count": 56,
   "metadata": {},
   "outputs": [],
   "source": [
    "start = 200000"
   ]
  },
  {
   "cell_type": "code",
   "execution_count": 57,
   "metadata": {},
   "outputs": [
    {
     "name": "stderr",
     "output_type": "stream",
     "text": [
      "100%|██████████| 500000/500000 [11:15:49<00:00, 12.33it/s]   \n"
     ]
    }
   ],
   "source": [
    "song_frames = []\n",
    "fails = []\n",
    "\n",
    "for i in tqdm(range(start, start+500000)):\n",
    "    try:\n",
    "        df = get_track_artist(song_ids[i])\n",
    "        song_frames.append(df)\n",
    "    except:\n",
    "        fails.append(song_ids[i])"
   ]
  },
  {
   "cell_type": "code",
   "execution_count": 59,
   "metadata": {},
   "outputs": [],
   "source": [
    "df = pd.concat(song_frames)"
   ]
  },
  {
   "cell_type": "code",
   "execution_count": 60,
   "metadata": {},
   "outputs": [],
   "source": [
    "df.to_csv('scraped_song_ids_2019.csv', mode='a', header=False)\n",
    "pd.DataFrame(fails).to_csv('fails.csv')"
   ]
  },
  {
   "cell_type": "code",
   "execution_count": 64,
   "metadata": {},
   "outputs": [
    {
     "data": {
      "text/plain": [
       "(499980, 4)"
      ]
     },
     "execution_count": 64,
     "metadata": {},
     "output_type": "execute_result"
    }
   ],
   "source": [
    "df.shape"
   ]
  },
  {
   "cell_type": "code",
   "execution_count": 63,
   "metadata": {},
   "outputs": [
    {
     "data": {
      "text/plain": [
       "700000"
      ]
     },
     "execution_count": 63,
     "metadata": {},
     "output_type": "execute_result"
    }
   ],
   "source": [
    "start = 700000 \n",
    "start"
   ]
  },
  {
   "cell_type": "code",
   "execution_count": 65,
   "metadata": {},
   "outputs": [
    {
     "name": "stderr",
     "output_type": "stream",
     "text": [
      " 57%|█████▋    | 285216/500000 [6:26:06<3:13:43, 18.48it/s]  HTTP Error for GET to https://api.spotify.com/v1/tracks/72IMCTQ4snq4vNnsLvNtS8 returned 404 due to error\n",
      " 57%|█████▋    | 285233/500000 [6:26:07<3:26:14, 17.36it/s]HTTP Error for GET to https://api.spotify.com/v1/tracks/4mrRA3bdyxxD2gYiGaDx3B returned 404 due to error\n",
      " 57%|█████▋    | 285259/500000 [6:26:08<3:29:36, 17.07it/s]HTTP Error for GET to https://api.spotify.com/v1/tracks/7o0zauddSZiG6WK6hq4wAs returned 404 due to error\n",
      " 57%|█████▋    | 285268/500000 [6:26:09<3:17:18, 18.14it/s]HTTP Error for GET to https://api.spotify.com/v1/tracks/3bYvU4oknVKrWkgspQWBpw returned 404 due to error\n",
      " 57%|█████▋    | 285279/500000 [6:26:09<3:12:51, 18.56it/s]HTTP Error for GET to https://api.spotify.com/v1/tracks/7Hdcw0LrYPsGbI8bOPjZTZ returned 404 due to error\n",
      " 57%|█████▋    | 285284/500000 [6:26:09<3:18:36, 18.02it/s]HTTP Error for GET to https://api.spotify.com/v1/tracks/7IjJd5XHmnXqDMdF6YUWXm returned 404 due to error\n",
      " 57%|█████▋    | 285313/500000 [6:26:12<3:31:48, 16.89it/s] HTTP Error for GET to https://api.spotify.com/v1/tracks/0ptf9oPEi8Giilg1GMdxpK returned 404 due to error\n",
      " 57%|█████▋    | 285325/500000 [6:26:13<5:36:18, 10.64it/s]HTTP Error for GET to https://api.spotify.com/v1/tracks/1acZl4y2nodyca5YuFWgdN returned 404 due to error\n",
      " 57%|█████▋    | 285334/500000 [6:26:14<3:44:04, 15.97it/s]HTTP Error for GET to https://api.spotify.com/v1/tracks/113WqOVDJsVI0TpNdVnFNU returned 404 due to error\n",
      " 57%|█████▋    | 285347/500000 [6:26:14<3:11:37, 18.67it/s]HTTP Error for GET to https://api.spotify.com/v1/tracks/7yBS04JlRIvC4LNANilgjy returned 404 due to error\n",
      " 57%|█████▋    | 285372/500000 [6:26:21<4:26:31, 13.42it/s] HTTP Error for GET to https://api.spotify.com/v1/tracks/0BMqpliHSGp5QPR06Un9MI returned 404 due to error\n",
      " 57%|█████▋    | 285379/500000 [6:26:21<3:34:17, 16.69it/s]HTTP Error for GET to https://api.spotify.com/v1/tracks/7xMl2c6fMbpBn61wl1WUkE returned 404 due to error\n",
      " 57%|█████▋    | 285386/500000 [6:26:21<3:19:56, 17.89it/s]HTTP Error for GET to https://api.spotify.com/v1/tracks/4u0R1W5JD6QXV4h4khmS9c returned 404 due to error\n",
      " 57%|█████▋    | 285407/500000 [6:26:23<3:19:19, 17.94it/s]HTTP Error for GET to https://api.spotify.com/v1/tracks/03U7jeIiYP2kZX1YCHCniw returned 404 due to error\n",
      " 57%|█████▋    | 285409/500000 [6:26:23<3:15:47, 18.27it/s]HTTP Error for GET to https://api.spotify.com/v1/tracks/3dXENXEO9xVc1yN20fIFCz returned 404 due to error\n",
      " 57%|█████▋    | 285412/500000 [6:26:23<3:09:04, 18.92it/s]HTTP Error for GET to https://api.spotify.com/v1/tracks/2eBCdmQFx08GUuRtTJLs98 returned 404 due to error\n",
      "HTTP Error for GET to https://api.spotify.com/v1/tracks/4XZHlzFAxQ11Ajd6b5JeCE returned 404 due to error\n",
      " 57%|█████▋    | 285419/500000 [6:26:23<3:20:40, 17.82it/s]HTTP Error for GET to https://api.spotify.com/v1/tracks/4PCKIJZ3rztphdiOtZbsyf returned 404 due to error\n",
      " 57%|█████▋    | 285423/500000 [6:26:23<3:13:47, 18.45it/s]HTTP Error for GET to https://api.spotify.com/v1/tracks/4pfJxF3pb4YAAWnUJtI6Bs returned 404 due to error\n",
      " 57%|█████▋    | 285430/500000 [6:26:24<3:07:01, 19.12it/s]HTTP Error for GET to https://api.spotify.com/v1/tracks/5mT75enETPtvUyUkL9ZL1U returned 404 due to error\n",
      " 57%|█████▋    | 285444/500000 [6:26:25<3:16:26, 18.20it/s]HTTP Error for GET to https://api.spotify.com/v1/tracks/3c91pk1YYjtwDYIteHSma8 returned 404 due to error\n",
      " 57%|█████▋    | 285453/500000 [6:26:25<3:14:05, 18.42it/s]HTTP Error for GET to https://api.spotify.com/v1/tracks/7uRwfA8g6u8nmr79Coufr9 returned 404 due to error\n",
      "HTTP Error for GET to https://api.spotify.com/v1/tracks/3jlomNY3BWgfaEztgBs8yl returned 404 due to error\n",
      " 57%|█████▋    | 285460/500000 [6:26:25<3:06:14, 19.20it/s]HTTP Error for GET to https://api.spotify.com/v1/tracks/1wq2M4keBmggoyBsFfMwFJ returned 404 due to error\n",
      " 57%|█████▋    | 285468/500000 [6:26:26<3:07:17, 19.09it/s]HTTP Error for GET to https://api.spotify.com/v1/tracks/4drAjMMTUIfKPx9wBT4WuZ returned 404 due to error\n",
      " 57%|█████▋    | 285470/500000 [6:26:26<3:07:32, 19.06it/s]HTTP Error for GET to https://api.spotify.com/v1/tracks/4Qot4NyC8lLoFTlxqr9mtO returned 404 due to error\n",
      " 57%|█████▋    | 285472/500000 [6:26:26<3:05:56, 19.23it/s]HTTP Error for GET to https://api.spotify.com/v1/tracks/4HdpXNU1hW2t6DPUXIJae5 returned 404 due to error\n",
      " 57%|█████▋    | 285486/500000 [6:26:27<3:18:05, 18.05it/s]HTTP Error for GET to https://api.spotify.com/v1/tracks/2nrwsQ42qIIR9s4kdfT0L3 returned 404 due to error\n",
      " 57%|█████▋    | 285492/500000 [6:26:27<3:07:42, 19.05it/s]HTTP Error for GET to https://api.spotify.com/v1/tracks/5F3inqOUMtTl6lW1MDGxwY returned 404 due to error\n",
      " 57%|█████▋    | 285504/500000 [6:26:28<3:09:34, 18.86it/s]HTTP Error for GET to https://api.spotify.com/v1/tracks/6DrvpHD1hNie8Fz6AICWyU returned 404 due to error\n",
      " 57%|█████▋    | 285507/500000 [6:26:28<3:07:02, 19.11it/s]HTTP Error for GET to https://api.spotify.com/v1/tracks/0E7jLuoZImSGLXYpylkJMJ returned 404 due to error\n",
      " 57%|█████▋    | 285512/500000 [6:26:28<3:08:21, 18.98it/s]HTTP Error for GET to https://api.spotify.com/v1/tracks/6NG09vvDRKXtnurxVe5IaF returned 404 due to error\n",
      " 57%|█████▋    | 285523/500000 [6:26:29<3:05:10, 19.30it/s]HTTP Error for GET to https://api.spotify.com/v1/tracks/0nruMtDbzT5oGZIJp6LyBa returned 404 due to error\n",
      " 57%|█████▋    | 285532/500000 [6:26:29<3:07:23, 19.07it/s]HTTP Error for GET to https://api.spotify.com/v1/tracks/3fREem9HUfC4jrLfkCBO3A returned 404 due to error\n",
      " 57%|█████▋    | 285551/500000 [6:26:30<3:28:12, 17.17it/s]HTTP Error for GET to https://api.spotify.com/v1/tracks/7zl8zIVzczYji0C04tc3Rg returned 404 due to error\n",
      " 57%|█████▋    | 285580/500000 [6:26:37<4:18:59, 13.80it/s] HTTP Error for GET to https://api.spotify.com/v1/tracks/7kzxjJnUZcGGTbUyxCTeDw returned 404 due to error\n",
      " 57%|█████▋    | 285585/500000 [6:26:37<3:39:47, 16.26it/s]HTTP Error for GET to https://api.spotify.com/v1/tracks/3EVI8sa9nnMm8fsr62kvrd returned 404 due to error\n",
      " 57%|█████▋    | 286560/500000 [6:28:03<4:55:27, 12.04it/s] HTTP Error for GET to https://api.spotify.com/v1/tracks/1WDjqfDWaupEx2nyN1Y5qs returned 404 due to error\n",
      " 57%|█████▋    | 286612/500000 [6:28:06<3:06:00, 19.12it/s]HTTP Error for GET to https://api.spotify.com/v1/tracks/0uXJbMgM5LL3kItUuBd9Vu returned 404 due to error\n",
      " 57%|█████▋    | 286659/500000 [6:28:13<8:23:53,  7.06it/s] HTTP Error for GET to https://api.spotify.com/v1/tracks/23eJ0p5rl4ky2OoE8x6Gpg returned 404 due to error\n",
      " 57%|█████▋    | 286738/500000 [6:28:20<3:54:09, 15.18it/s] HTTP Error for GET to https://api.spotify.com/v1/tracks/34NCvOoA42HkusLZPYdS5B returned 404 due to error\n",
      " 57%|█████▋    | 286785/500000 [6:28:22<3:04:32, 19.26it/s]HTTP Error for GET to https://api.spotify.com/v1/tracks/14Gr81o51OuaxGHc7wjyxW returned 404 due to error\n",
      " 57%|█████▋    | 286808/500000 [6:28:26<23:48:39,  2.49it/s]HTTP Error for GET to https://api.spotify.com/v1/tracks/2XPnC3KgZVZ7dRHs36GFkQ returned 404 due to error\n",
      " 57%|█████▋    | 286904/500000 [6:28:33<3:11:49, 18.51it/s] HTTP Error for GET to https://api.spotify.com/v1/tracks/04lubj2Gy02YqjjQVQDSZq returned 404 due to error\n",
      " 57%|█████▋    | 286930/500000 [6:28:34<3:07:16, 18.96it/s]HTTP Error for GET to https://api.spotify.com/v1/tracks/5sydEY0N0Xz0GEIOYynO3V returned 404 due to error\n",
      " 57%|█████▋    | 286933/500000 [6:28:34<3:02:08, 19.50it/s]HTTP Error for GET to https://api.spotify.com/v1/tracks/0qVBHj1oC9ES3Td7H6KgZs returned 404 due to error\n",
      " 57%|█████▋    | 286953/500000 [6:28:35<2:58:32, 19.89it/s]HTTP Error for GET to https://api.spotify.com/v1/tracks/1Ma7GiOd62uHFSf1PAH1mN returned 404 due to error\n",
      " 57%|█████▋    | 286987/500000 [6:28:42<34:48:29,  1.70it/s]HTTP Error for GET to https://api.spotify.com/v1/tracks/5DArLVRQDlJEFsrHKFjPiT returned 404 due to error\n",
      " 57%|█████▋    | 286990/500000 [6:28:43<25:12:06,  2.35it/s]HTTP Error for GET to https://api.spotify.com/v1/tracks/0NyKw9t8lbGpMgNXwOVsAq returned 404 due to error\n",
      " 57%|█████▋    | 287017/500000 [6:28:44<3:20:37, 17.69it/s] HTTP Error for GET to https://api.spotify.com/v1/tracks/7ClHSVIqLcdOcTiBRoSTsn returned 404 due to error\n",
      " 57%|█████▋    | 287023/500000 [6:28:44<3:06:44, 19.01it/s]HTTP Error for GET to https://api.spotify.com/v1/tracks/7Mucfv8KcSbZcH0uVqYGzY returned 404 due to error\n",
      " 57%|█████▋    | 287064/500000 [6:28:46<3:08:39, 18.81it/s]HTTP Error for GET to https://api.spotify.com/v1/tracks/54ecOaZEGwLWvMHwivTJil returned 404 due to error\n",
      " 57%|█████▋    | 287075/500000 [6:28:47<3:02:30, 19.44it/s]HTTP Error for GET to https://api.spotify.com/v1/tracks/3IdU3mI1q11RhukVOw4bZI returned 404 due to error\n",
      " 57%|█████▋    | 287078/500000 [6:28:47<2:58:34, 19.87it/s]HTTP Error for GET to https://api.spotify.com/v1/tracks/2JMYV8J3543b4zJzM3AFfl returned 404 due to error\n",
      " 57%|█████▋    | 287084/500000 [6:28:47<3:00:26, 19.67it/s]HTTP Error for GET to https://api.spotify.com/v1/tracks/6k9wfJkrvp4EWrTbyQB0QZ returned 404 due to error\n",
      " 57%|█████▋    | 287098/500000 [6:28:48<3:08:33, 18.82it/s]HTTP Error for GET to https://api.spotify.com/v1/tracks/77ZEolewLLQX0zXMiFEQxC returned 404 due to error\n",
      " 57%|█████▋    | 287101/500000 [6:28:48<3:07:54, 18.88it/s]HTTP Error for GET to https://api.spotify.com/v1/tracks/6SELWPLMqj3mpW3PvyrzkC returned 404 due to error\n",
      " 57%|█████▋    | 287123/500000 [6:28:50<3:25:27, 17.27it/s]HTTP Error for GET to https://api.spotify.com/v1/tracks/1zfoqFu1CV7Zy92hGPT2CJ returned 404 due to error\n",
      " 57%|█████▋    | 287180/500000 [6:28:57<3:15:43, 18.12it/s] HTTP Error for GET to https://api.spotify.com/v1/tracks/2En6o6v6Nuk4cZJkdc9cTy returned 404 due to error\n",
      "HTTP Error for GET to https://api.spotify.com/v1/tracks/45awi6jVHkMFVSP8bTJ7fz returned 404 due to error\n",
      " 57%|█████▋    | 287183/500000 [6:28:57<3:07:07, 18.96it/s]HTTP Error for GET to https://api.spotify.com/v1/tracks/3tNlpA8rPKGTOoFw39hLrc returned 404 due to error\n",
      " 57%|█████▋    | 287190/500000 [6:28:58<3:04:33, 19.22it/s]HTTP Error for GET to https://api.spotify.com/v1/tracks/47WjwQyyKsKQhwhVtbTmYY returned 404 due to error\n",
      " 57%|█████▋    | 287205/500000 [6:28:58<3:05:01, 19.17it/s]HTTP Error for GET to https://api.spotify.com/v1/tracks/5N5TKGllCrA5T2KJ1uUCIB returned 404 due to error\n",
      " 57%|█████▋    | 287274/500000 [6:29:02<3:05:22, 19.13it/s]HTTP Error for GET to https://api.spotify.com/v1/tracks/3BWeViOgiJrBOfvXZizojc returned 404 due to error\n",
      "HTTP Error for GET to https://api.spotify.com/v1/tracks/4PfyKHdIInogvjRTze5KeD returned 404 due to error\n",
      " 57%|█████▋    | 287300/500000 [6:29:03<2:59:48, 19.71it/s]HTTP Error for GET to https://api.spotify.com/v1/tracks/7fZDLAI9Bue3qIa05K21uY returned 404 due to error\n",
      " 57%|█████▋    | 287304/500000 [6:29:03<3:03:43, 19.29it/s]HTTP Error for GET to https://api.spotify.com/v1/tracks/3Hp5Nm2xFdQLV00fhXxBPb returned 404 due to error\n",
      " 57%|█████▋    | 287344/500000 [6:29:06<3:02:54, 19.38it/s]HTTP Error for GET to https://api.spotify.com/v1/tracks/5rfHbmpp1zLHVhKf4ydsfH returned 404 due to error\n",
      " 57%|█████▋    | 287368/500000 [6:29:12<48:21:01,  1.22it/s]HTTP Error for GET to https://api.spotify.com/v1/tracks/35csL3RINpcIGlzX5HBmRm returned 404 due to error\n",
      " 57%|█████▋    | 287412/500000 [6:29:14<3:05:55, 19.06it/s] HTTP Error for GET to https://api.spotify.com/v1/tracks/3sydP6xhI0HzLERcthFqKI returned 404 due to error\n",
      " 57%|█████▋    | 287415/500000 [6:29:14<3:01:37, 19.51it/s]HTTP Error for GET to https://api.spotify.com/v1/tracks/1jyENlIUWY9np9WdFaONTg returned 404 due to error\n",
      " 57%|█████▋    | 287426/500000 [6:29:15<3:04:44, 19.18it/s]HTTP Error for GET to https://api.spotify.com/v1/tracks/1MeSSw8fludpsJSRbGgr5A returned 404 due to error\n",
      " 58%|█████▊    | 287704/500000 [6:29:43<8:27:19,  6.97it/s] HTTP Error for GET to https://api.spotify.com/v1/tracks/3DlHrgCni2Z23BqR5wMj68 returned 404 due to error\n",
      " 58%|█████▊    | 287995/500000 [6:30:00<3:21:16, 17.56it/s] HTTP Error for GET to https://api.spotify.com/v1/tracks/4e8yNpSIvSgFHBHcXxMjWq returned 404 due to error\n",
      "100%|██████████| 500000/500000 [11:17:45<00:00, 12.30it/s]   \n"
     ]
    }
   ],
   "source": [
    "song_frames = []\n",
    "fails = []\n",
    "\n",
    "for i in tqdm(range(start, start+500000)):\n",
    "    try:\n",
    "        df = get_track_artist(song_ids[i])\n",
    "        song_frames.append(df)\n",
    "    except:\n",
    "        fails.append(song_ids[i])"
   ]
  },
  {
   "cell_type": "code",
   "execution_count": 66,
   "metadata": {},
   "outputs": [],
   "source": [
    "df = pd.concat(song_frames)\n",
    "df.to_csv('scraped_song_ids_2019.csv', mode='a', header=False)\n",
    "pd.DataFrame(fails).to_csv('fails.csv')"
   ]
  },
  {
   "cell_type": "code",
   "execution_count": 68,
   "metadata": {},
   "outputs": [],
   "source": [
    "start += 500000"
   ]
  },
  {
   "cell_type": "code",
   "execution_count": 69,
   "metadata": {},
   "outputs": [
    {
     "name": "stderr",
     "output_type": "stream",
     "text": [
      "100%|██████████| 500000/500000 [11:21:34<00:00, 12.23it/s]   \n"
     ]
    }
   ],
   "source": [
    "song_frames = []\n",
    "fails = []\n",
    "\n",
    "for i in tqdm(range(start, start+500000)):\n",
    "    try:\n",
    "        df = get_track_artist(song_ids[i])\n",
    "        song_frames.append(df)\n",
    "    except:\n",
    "        fails.append(song_ids[i])"
   ]
  },
  {
   "cell_type": "code",
   "execution_count": 70,
   "metadata": {},
   "outputs": [],
   "source": [
    "df = pd.concat(song_frames)\n",
    "df.to_csv('scraped_song_ids_2019.csv', mode='a', header=False)\n",
    "pd.DataFrame(fails).to_csv('fails.csv')"
   ]
  },
  {
   "cell_type": "code",
   "execution_count": 71,
   "metadata": {},
   "outputs": [
    {
     "data": {
      "text/plain": [
       "1700000"
      ]
     },
     "execution_count": 71,
     "metadata": {},
     "output_type": "execute_result"
    }
   ],
   "source": [
    "start += 500000\n",
    "start"
   ]
  },
  {
   "cell_type": "code",
   "execution_count": 72,
   "metadata": {},
   "outputs": [
    {
     "name": "stderr",
     "output_type": "stream",
     "text": [
      "100%|██████████| 500000/500000 [11:19:32<00:00, 12.26it/s]   \n"
     ]
    }
   ],
   "source": [
    "song_frames = []\n",
    "fails = []\n",
    "\n",
    "for i in tqdm(range(start, start+500000)):\n",
    "    try:\n",
    "        df = get_track_artist(song_ids[i])\n",
    "        song_frames.append(df)\n",
    "    except:\n",
    "        fails.append(song_ids[i])"
   ]
  },
  {
   "cell_type": "code",
   "execution_count": 73,
   "metadata": {},
   "outputs": [],
   "source": [
    "df = pd.concat(song_frames)\n",
    "df.to_csv('scraped_song_ids_2019.csv', mode='a', header=False)\n",
    "pd.DataFrame(fails).to_csv('fails.csv')"
   ]
  },
  {
   "cell_type": "code",
   "execution_count": 74,
   "metadata": {},
   "outputs": [
    {
     "data": {
      "text/plain": [
       "2200000"
      ]
     },
     "execution_count": 74,
     "metadata": {},
     "output_type": "execute_result"
    }
   ],
   "source": [
    "start += 500000\n",
    "start"
   ]
  },
  {
   "cell_type": "code",
   "execution_count": 75,
   "metadata": {},
   "outputs": [
    {
     "name": "stderr",
     "output_type": "stream",
     "text": [
      " 83%|████████▎ | 416555/500000 [9:34:08<1:13:50, 18.84it/s]  HTTP Error for GET to https://api.spotify.com/v1/tracks/2iivmu6YYBFqVKE92EalNf returned 404 due to non existing id\n",
      " 83%|████████▎ | 416557/500000 [9:34:08<1:13:26, 18.94it/s]HTTP Error for GET to https://api.spotify.com/v1/tracks/2fWYB2svoD1TNgWN3iotxj returned 404 due to non existing id\n",
      "HTTP Error for GET to https://api.spotify.com/v1/tracks/1c8krR6doCZr6Z2RJHAC6E returned 404 due to non existing id\n",
      " 83%|████████▎ | 416559/500000 [9:34:09<1:14:40, 18.62it/s]HTTP Error for GET to https://api.spotify.com/v1/tracks/4oL91SuFHy1tBfR8gUjXgJ returned 404 due to non existing id\n",
      "HTTP Error for GET to https://api.spotify.com/v1/tracks/23Duljf1zPAKqAP16YRay0 returned 404 due to non existing id\n",
      "HTTP Error for GET to https://api.spotify.com/v1/tracks/2tFdXeOrUZlBBMUnosEgIN returned 404 due to non existing id\n",
      " 83%|████████▎ | 416589/500000 [9:34:10<1:16:17, 18.22it/s]HTTP Error for GET to https://api.spotify.com/v1/tracks/7cUmxvXmXwvK0QzdmAiwwO returned 404 due to non existing id\n",
      " 83%|████████▎ | 416591/500000 [9:34:10<1:16:13, 18.24it/s]HTTP Error for GET to https://api.spotify.com/v1/tracks/5X59khZpkTtOvlceXx06c9 returned 404 due to non existing id\n",
      "HTTP Error for GET to https://api.spotify.com/v1/tracks/59EAnaWAZ6WNWdp9mZFBzD returned 404 due to non existing id\n",
      " 83%|████████▎ | 416671/500000 [9:34:20<1:15:31, 18.39it/s] HTTP Error for GET to https://api.spotify.com/v1/tracks/4xQLSOmpGbNB40ReOJP6yZ returned 404 due to non existing id\n",
      "HTTP Error for GET to https://api.spotify.com/v1/tracks/4oUgD4Lnr2nRkwKkKXJnoa returned 404 due to non existing id\n",
      " 83%|████████▎ | 416679/500000 [9:34:20<1:14:36, 18.61it/s]HTTP Error for GET to https://api.spotify.com/v1/tracks/0bhp9vPBw0qrkQKX2iGRai returned 404 due to non existing id\n",
      " 83%|████████▎ | 416681/500000 [9:34:20<1:13:14, 18.96it/s]HTTP Error for GET to https://api.spotify.com/v1/tracks/1g5mBbaZIPtoQvAFnxBwTd returned 404 due to non existing id\n",
      " 83%|████████▎ | 416704/500000 [9:34:26<15:27:12,  1.50it/s]HTTP Error for GET to https://api.spotify.com/v1/tracks/0pLV1lyqTidpYfDcqGTRs7 returned 404 due to non existing id\n",
      "HTTP Error for GET to https://api.spotify.com/v1/tracks/7rcPcKm5XxbxSHpR9boTiw returned 404 due to non existing id\n",
      " 83%|████████▎ | 416713/500000 [9:34:26<4:41:04,  4.94it/s] HTTP Error for GET to https://api.spotify.com/v1/tracks/48hvGis5EZhpX01Qk8sIqC returned 404 due to non existing id\n",
      " 83%|████████▎ | 416715/500000 [9:34:26<3:37:34,  6.38it/s]HTTP Error for GET to https://api.spotify.com/v1/tracks/58IcAEQR2zKioUNHSAsXO5 returned 404 due to non existing id\n",
      " 83%|████████▎ | 416720/500000 [9:34:26<2:24:09,  9.63it/s]HTTP Error for GET to https://api.spotify.com/v1/tracks/4sNSmqkTb6ZeS80QGkWh57 returned 404 due to non existing id\n",
      " 83%|████████▎ | 416732/500000 [9:34:27<1:24:03, 16.51it/s]HTTP Error for GET to https://api.spotify.com/v1/tracks/7tqhUYYeUd50EqZf4RoZ9P returned 404 due to non existing id\n",
      "HTTP Error for GET to https://api.spotify.com/v1/tracks/4rxgpLYGo7DFB6vqhEc6un returned 404 due to non existing id\n",
      " 83%|████████▎ | 416742/500000 [9:34:28<1:16:04, 18.24it/s]HTTP Error for GET to https://api.spotify.com/v1/tracks/7cH25tgDmceHCfgqRWjsQe returned 404 due to non existing id\n",
      " 83%|████████▎ | 416751/500000 [9:34:28<1:12:25, 19.16it/s]HTTP Error for GET to https://api.spotify.com/v1/tracks/3L2WsrvzKo5U1kuueZWPSS returned 404 due to non existing id\n",
      " 83%|████████▎ | 416754/500000 [9:34:28<1:11:08, 19.50it/s]HTTP Error for GET to https://api.spotify.com/v1/tracks/3Ocb9fDiHoIndjBR8fIqby returned 404 due to non existing id\n",
      " 83%|████████▎ | 416764/500000 [9:34:29<1:13:52, 18.78it/s]HTTP Error for GET to https://api.spotify.com/v1/tracks/1GlaM8w2dsQRSst7ilCnrs returned 404 due to non existing id\n",
      " 83%|████████▎ | 416766/500000 [9:34:29<1:12:42, 19.08it/s]HTTP Error for GET to https://api.spotify.com/v1/tracks/5VlqJHsKmSQkJrut1IrKce returned 404 due to non existing id\n",
      " 83%|████████▎ | 416770/500000 [9:34:29<1:13:27, 18.88it/s]HTTP Error for GET to https://api.spotify.com/v1/tracks/0zxz5T7ZNJiHJHXs2rHDMU returned 404 due to non existing id\n",
      " 83%|████████▎ | 416776/500000 [9:34:29<1:12:20, 19.18it/s]HTTP Error for GET to https://api.spotify.com/v1/tracks/1dIqTSDKFUJxKND5lMUX5P returned 404 due to non existing id\n",
      " 83%|████████▎ | 416780/500000 [9:34:30<1:13:20, 18.91it/s]HTTP Error for GET to https://api.spotify.com/v1/tracks/2egy9uPxZokRAIZcBRcjr4 returned 404 due to non existing id\n",
      "HTTP Error for GET to https://api.spotify.com/v1/tracks/0fQ3DKazZA6R1ZlouV1JH6 returned 404 due to non existing id\n",
      " 83%|████████▎ | 416787/500000 [9:34:30<1:13:08, 18.96it/s]HTTP Error for GET to https://api.spotify.com/v1/tracks/5Ffn8NT60OTxnHRV0rwog5 returned 404 due to non existing id\n",
      " 83%|████████▎ | 416793/500000 [9:34:30<1:13:35, 18.84it/s]HTTP Error for GET to https://api.spotify.com/v1/tracks/46DbpolMwlP6NLwlbeaInT returned 404 due to non existing id\n",
      " 83%|████████▎ | 416797/500000 [9:34:30<1:13:07, 18.96it/s]HTTP Error for GET to https://api.spotify.com/v1/tracks/4faCiuo4DeaWLVzqNSeZfY returned 404 due to non existing id\n",
      " 83%|████████▎ | 416813/500000 [9:34:35<4:38:42,  4.97it/s] HTTP Error for GET to https://api.spotify.com/v1/tracks/3AqSwFZUuAEEgCLCBmVrCz returned 404 due to non existing id\n",
      " 83%|████████▎ | 416815/500000 [9:34:35<3:36:51,  6.39it/s]HTTP Error for GET to https://api.spotify.com/v1/tracks/1ni5jV1bZqB7o0AzMNS6K6 returned 404 due to non existing id\n",
      "HTTP Error for GET to https://api.spotify.com/v1/tracks/4A4JADLP5ycRiR7eejZ6lO returned 404 due to non existing id\n",
      " 84%|████████▍ | 420212/500000 [9:39:09<1:11:35, 18.57it/s] "
     ]
    },
    {
     "ename": "IndexError",
     "evalue": "list index out of range",
     "output_type": "error",
     "traceback": [
      "\u001b[0;31m---------------------------------------------------------------------------\u001b[0m",
      "\u001b[0;31mIndexError\u001b[0m                                Traceback (most recent call last)",
      "\u001b[0;32m<ipython-input-75-02494ccb6d0e>\u001b[0m in \u001b[0;36m<module>\u001b[0;34m\u001b[0m\n\u001b[1;32m      5\u001b[0m     \u001b[0;32mtry\u001b[0m\u001b[0;34m:\u001b[0m\u001b[0;34m\u001b[0m\u001b[0;34m\u001b[0m\u001b[0m\n\u001b[0;32m----> 6\u001b[0;31m         \u001b[0mdf\u001b[0m \u001b[0;34m=\u001b[0m \u001b[0mget_track_artist\u001b[0m\u001b[0;34m(\u001b[0m\u001b[0msong_ids\u001b[0m\u001b[0;34m[\u001b[0m\u001b[0mi\u001b[0m\u001b[0;34m]\u001b[0m\u001b[0;34m)\u001b[0m\u001b[0;34m\u001b[0m\u001b[0;34m\u001b[0m\u001b[0m\n\u001b[0m\u001b[1;32m      7\u001b[0m         \u001b[0msong_frames\u001b[0m\u001b[0;34m.\u001b[0m\u001b[0mappend\u001b[0m\u001b[0;34m(\u001b[0m\u001b[0mdf\u001b[0m\u001b[0;34m)\u001b[0m\u001b[0;34m\u001b[0m\u001b[0;34m\u001b[0m\u001b[0m\n",
      "\u001b[0;31mIndexError\u001b[0m: list index out of range",
      "\nDuring handling of the above exception, another exception occurred:\n",
      "\u001b[0;31mIndexError\u001b[0m                                Traceback (most recent call last)",
      "\u001b[0;32m<ipython-input-75-02494ccb6d0e>\u001b[0m in \u001b[0;36m<module>\u001b[0;34m\u001b[0m\n\u001b[1;32m      7\u001b[0m         \u001b[0msong_frames\u001b[0m\u001b[0;34m.\u001b[0m\u001b[0mappend\u001b[0m\u001b[0;34m(\u001b[0m\u001b[0mdf\u001b[0m\u001b[0;34m)\u001b[0m\u001b[0;34m\u001b[0m\u001b[0;34m\u001b[0m\u001b[0m\n\u001b[1;32m      8\u001b[0m     \u001b[0;32mexcept\u001b[0m\u001b[0;34m:\u001b[0m\u001b[0;34m\u001b[0m\u001b[0;34m\u001b[0m\u001b[0m\n\u001b[0;32m----> 9\u001b[0;31m         \u001b[0mfails\u001b[0m\u001b[0;34m.\u001b[0m\u001b[0mappend\u001b[0m\u001b[0;34m(\u001b[0m\u001b[0msong_ids\u001b[0m\u001b[0;34m[\u001b[0m\u001b[0mi\u001b[0m\u001b[0;34m]\u001b[0m\u001b[0;34m)\u001b[0m\u001b[0;34m\u001b[0m\u001b[0;34m\u001b[0m\u001b[0m\n\u001b[0m",
      "\u001b[0;31mIndexError\u001b[0m: list index out of range"
     ]
    },
    {
     "name": "stderr",
     "output_type": "stream",
     "text": [
      " 84%|████████▍ | 420212/500000 [9:39:27<1:11:35, 18.57it/s]"
     ]
    }
   ],
   "source": [
    "song_frames = []\n",
    "fails = []\n",
    "\n",
    "for i in tqdm(range(start, start+500000)):\n",
    "    try:\n",
    "        df = get_track_artist(song_ids[i])\n",
    "        song_frames.append(df)\n",
    "    except:\n",
    "        fails.append(song_ids[i])"
   ]
  },
  {
   "cell_type": "code",
   "execution_count": 78,
   "metadata": {},
   "outputs": [],
   "source": [
    "df = pd.concat(song_frames)\n",
    "df.to_csv('scraped_song_ids_2019.csv', mode='a', header=False)\n",
    "pd.DataFrame(fails).to_csv('fails.csv')"
   ]
  },
  {
   "cell_type": "code",
   "execution_count": 79,
   "metadata": {},
   "outputs": [],
   "source": [
    "df = pd.read_csv('scraped_song_ids_2019.csv')"
   ]
  },
  {
   "cell_type": "code",
   "execution_count": 28,
   "metadata": {},
   "outputs": [
    {
     "data": {
      "text/plain": [
       "(4009881,)"
      ]
     },
     "execution_count": 28,
     "metadata": {},
     "output_type": "execute_result"
    }
   ],
   "source": [
    "x.artist.shape"
   ]
  },
  {
   "cell_type": "code",
   "execution_count": 80,
   "metadata": {},
   "outputs": [
    {
     "data": {
      "text/plain": [
       "(6629909,)"
      ]
     },
     "execution_count": 80,
     "metadata": {},
     "output_type": "execute_result"
    }
   ],
   "source": [
    "df.artist.shape"
   ]
  },
  {
   "cell_type": "code",
   "execution_count": 29,
   "metadata": {},
   "outputs": [
    {
     "data": {
      "text/plain": [
       "(419329,)"
      ]
     },
     "execution_count": 29,
     "metadata": {},
     "output_type": "execute_result"
    }
   ],
   "source": [
    "x.artist.unique().shape"
   ]
  },
  {
   "cell_type": "code",
   "execution_count": 81,
   "metadata": {},
   "outputs": [
    {
     "data": {
      "text/plain": [
       "(711303,)"
      ]
     },
     "execution_count": 81,
     "metadata": {},
     "output_type": "execute_result"
    }
   ],
   "source": [
    "df.artist.unique().shape"
   ]
  },
  {
   "cell_type": "code",
   "execution_count": 32,
   "metadata": {},
   "outputs": [
    {
     "data": {
      "text/plain": [
       "(4009881,)"
      ]
     },
     "execution_count": 32,
     "metadata": {},
     "output_type": "execute_result"
    }
   ],
   "source": [
    "x.song_id.shape"
   ]
  },
  {
   "cell_type": "code",
   "execution_count": 30,
   "metadata": {},
   "outputs": [
    {
     "data": {
      "text/plain": [
       "(2749996,)"
      ]
     },
     "execution_count": 30,
     "metadata": {},
     "output_type": "execute_result"
    }
   ],
   "source": [
    "x.song_id.unique().shape"
   ]
  },
  {
   "cell_type": "code",
   "execution_count": 33,
   "metadata": {},
   "outputs": [],
   "source": [
    "old_playlishape= pd.read_csv('scraped_playlists.csv')\n",
    "new_playlists = pd.read_csv('new_scraped_playlists.csv')"
   ]
  },
  {
   "cell_type": "code",
   "execution_count": 34,
   "metadata": {},
   "outputs": [
    {
     "data": {
      "text/plain": [
       "(16254689, 6)"
      ]
     },
     "execution_count": 34,
     "metadata": {},
     "output_type": "execute_result"
    }
   ],
   "source": [
    "new_playlists.shape"
   ]
  },
  {
   "cell_type": "code",
   "execution_count": 35,
   "metadata": {},
   "outputs": [
    {
     "data": {
      "text/plain": [
       "(5319400, 6)"
      ]
     },
     "execution_count": 35,
     "metadata": {},
     "output_type": "execute_result"
    }
   ],
   "source": [
    "old_playlists.shape"
   ]
  },
  {
   "cell_type": "code",
   "execution_count": 36,
   "metadata": {},
   "outputs": [],
   "source": [
    "playlists = pd.concat([old_playlists,new_playlists])"
   ]
  },
  {
   "cell_type": "code",
   "execution_count": 38,
   "metadata": {},
   "outputs": [
    {
     "data": {
      "text/plain": [
       "(21574089, 6)"
      ]
     },
     "execution_count": 38,
     "metadata": {},
     "output_type": "execute_result"
    }
   ],
   "source": [
    "#combine playlist dataframes check for dups and then make into master playlist frame to be merged\n",
    "playlists.shape"
   ]
  },
  {
   "cell_type": "code",
   "execution_count": 40,
   "metadata": {},
   "outputs": [
    {
     "data": {
      "text/html": [
       "<div>\n",
       "<style scoped>\n",
       "    .dataframe tbody tr th:only-of-type {\n",
       "        vertical-align: middle;\n",
       "    }\n",
       "\n",
       "    .dataframe tbody tr th {\n",
       "        vertical-align: top;\n",
       "    }\n",
       "\n",
       "    .dataframe thead th {\n",
       "        text-align: right;\n",
       "    }\n",
       "</style>\n",
       "<table border=\"1\" class=\"dataframe\">\n",
       "  <thead>\n",
       "    <tr style=\"text-align: right;\">\n",
       "      <th></th>\n",
       "      <th>Unnamed: 0</th>\n",
       "      <th>song_id</th>\n",
       "      <th>playlist_id</th>\n",
       "      <th>playlist_name</th>\n",
       "      <th>user_id</th>\n",
       "      <th>followers</th>\n",
       "    </tr>\n",
       "  </thead>\n",
       "  <tbody>\n",
       "    <tr>\n",
       "      <th>0</th>\n",
       "      <td>0</td>\n",
       "      <td>6HfVKTa0AA4k49FqXtxd3S</td>\n",
       "      <td>3nnKwI4n769FO2KPI3dfk1</td>\n",
       "      <td>stiles stilinski</td>\n",
       "      <td>_erin_morgan_</td>\n",
       "      <td>4.0</td>\n",
       "    </tr>\n",
       "    <tr>\n",
       "      <th>1</th>\n",
       "      <td>1</td>\n",
       "      <td>3pf6HWXtEalIWoZcPTFbc6</td>\n",
       "      <td>3nnKwI4n769FO2KPI3dfk1</td>\n",
       "      <td>stiles stilinski</td>\n",
       "      <td>_erin_morgan_</td>\n",
       "      <td>4.0</td>\n",
       "    </tr>\n",
       "    <tr>\n",
       "      <th>2</th>\n",
       "      <td>2</td>\n",
       "      <td>0ofHAoxe9vBkTCp2UQIavz</td>\n",
       "      <td>3nnKwI4n769FO2KPI3dfk1</td>\n",
       "      <td>stiles stilinski</td>\n",
       "      <td>_erin_morgan_</td>\n",
       "      <td>4.0</td>\n",
       "    </tr>\n",
       "    <tr>\n",
       "      <th>3</th>\n",
       "      <td>3</td>\n",
       "      <td>3dwvT66ZwtwlIZl3IISe6X</td>\n",
       "      <td>3nnKwI4n769FO2KPI3dfk1</td>\n",
       "      <td>stiles stilinski</td>\n",
       "      <td>_erin_morgan_</td>\n",
       "      <td>4.0</td>\n",
       "    </tr>\n",
       "    <tr>\n",
       "      <th>4</th>\n",
       "      <td>4</td>\n",
       "      <td>1t0UbGPCjGpLeH7KiLBuBv</td>\n",
       "      <td>3nnKwI4n769FO2KPI3dfk1</td>\n",
       "      <td>stiles stilinski</td>\n",
       "      <td>_erin_morgan_</td>\n",
       "      <td>4.0</td>\n",
       "    </tr>\n",
       "  </tbody>\n",
       "</table>\n",
       "</div>"
      ],
      "text/plain": [
       "   Unnamed: 0                 song_id             playlist_id  \\\n",
       "0           0  6HfVKTa0AA4k49FqXtxd3S  3nnKwI4n769FO2KPI3dfk1   \n",
       "1           1  3pf6HWXtEalIWoZcPTFbc6  3nnKwI4n769FO2KPI3dfk1   \n",
       "2           2  0ofHAoxe9vBkTCp2UQIavz  3nnKwI4n769FO2KPI3dfk1   \n",
       "3           3  3dwvT66ZwtwlIZl3IISe6X  3nnKwI4n769FO2KPI3dfk1   \n",
       "4           4  1t0UbGPCjGpLeH7KiLBuBv  3nnKwI4n769FO2KPI3dfk1   \n",
       "\n",
       "      playlist_name        user_id  followers  \n",
       "0  stiles stilinski  _erin_morgan_        4.0  \n",
       "1  stiles stilinski  _erin_morgan_        4.0  \n",
       "2  stiles stilinski  _erin_morgan_        4.0  \n",
       "3  stiles stilinski  _erin_morgan_        4.0  \n",
       "4  stiles stilinski  _erin_morgan_        4.0  "
      ]
     },
     "execution_count": 40,
     "metadata": {},
     "output_type": "execute_result"
    }
   ],
   "source": [
    "playlists.head()"
   ]
  },
  {
   "cell_type": "code",
   "execution_count": 42,
   "metadata": {},
   "outputs": [],
   "source": [
    "playlists.drop(columns=['Unnamed: 0'],inplace=True)"
   ]
  },
  {
   "cell_type": "code",
   "execution_count": 43,
   "metadata": {},
   "outputs": [
    {
     "data": {
      "text/plain": [
       "9966902"
      ]
     },
     "execution_count": 43,
     "metadata": {},
     "output_type": "execute_result"
    }
   ],
   "source": [
    "playlists.shape[0] - playlists.drop_duplicates(subset=['song_id','playlist_id','playlist_name']).shape[0]"
   ]
  },
  {
   "cell_type": "code",
   "execution_count": 44,
   "metadata": {},
   "outputs": [
    {
     "data": {
      "text/plain": [
       "song_id          41490\n",
       "playlist_id          0\n",
       "playlist_name      437\n",
       "user_id            283\n",
       "followers         2897\n",
       "dtype: int64"
      ]
     },
     "execution_count": 44,
     "metadata": {},
     "output_type": "execute_result"
    }
   ],
   "source": [
    "playlists.isnull().sum()"
   ]
  },
  {
   "cell_type": "code",
   "execution_count": 45,
   "metadata": {},
   "outputs": [],
   "source": [
    "playlists.dropna(subset=['song_id'],inplace=True)"
   ]
  },
  {
   "cell_type": "code",
   "execution_count": 46,
   "metadata": {},
   "outputs": [
    {
     "data": {
      "text/plain": [
       "song_id             0\n",
       "playlist_id         0\n",
       "playlist_name     437\n",
       "user_id           283\n",
       "followers        2889\n",
       "dtype: int64"
      ]
     },
     "execution_count": 46,
     "metadata": {},
     "output_type": "execute_result"
    }
   ],
   "source": [
    "playlists.isnull().sum()"
   ]
  },
  {
   "cell_type": "code",
   "execution_count": 47,
   "metadata": {},
   "outputs": [
    {
     "data": {
      "text/plain": [
       "9930529"
      ]
     },
     "execution_count": 47,
     "metadata": {},
     "output_type": "execute_result"
    }
   ],
   "source": [
    "playlists.shape[0] - playlists.drop_duplicates(subset=['song_id','playlist_id','playlist_name']).shape[0]"
   ]
  },
  {
   "cell_type": "code",
   "execution_count": 48,
   "metadata": {},
   "outputs": [],
   "source": [
    "playlists.to_csv('playlists_final.csv')"
   ]
  },
  {
   "cell_type": "code",
   "execution_count": 19,
   "metadata": {},
   "outputs": [
    {
     "ename": "TypeError",
     "evalue": "parser_f() got an unexpected keyword argument 'index'",
     "output_type": "error",
     "traceback": [
      "\u001b[0;31m---------------------------------------------------------------------------\u001b[0m",
      "\u001b[0;31mTypeError\u001b[0m                                 Traceback (most recent call last)",
      "\u001b[0;32m<ipython-input-19-d9b7ba6fbd5c>\u001b[0m in \u001b[0;36m<module>\u001b[0;34m\u001b[0m\n\u001b[0;32m----> 1\u001b[0;31m \u001b[0mdf\u001b[0m \u001b[0;34m=\u001b[0m \u001b[0mpd\u001b[0m\u001b[0;34m.\u001b[0m\u001b[0mread_csv\u001b[0m\u001b[0;34m(\u001b[0m\u001b[0;34m\"scraped_song_ids_2019.csv\"\u001b[0m\u001b[0;34m,\u001b[0m\u001b[0mindex\u001b[0m\u001b[0;34m=\u001b[0m\u001b[0;34m[\u001b[0m\u001b[0;36m0\u001b[0m\u001b[0;34m]\u001b[0m\u001b[0;34m)\u001b[0m\u001b[0;34m\u001b[0m\u001b[0;34m\u001b[0m\u001b[0m\n\u001b[0m",
      "\u001b[0;31mTypeError\u001b[0m: parser_f() got an unexpected keyword argument 'index'"
     ]
    }
   ],
   "source": [
    "df = pd.read_csv(\"scraped_song_ids_2019.csv\",index_col==[0])"
   ]
  },
  {
   "cell_type": "code",
   "execution_count": 18,
   "metadata": {},
   "outputs": [
    {
     "data": {
      "text/html": [
       "<div>\n",
       "<style scoped>\n",
       "    .dataframe tbody tr th:only-of-type {\n",
       "        vertical-align: middle;\n",
       "    }\n",
       "\n",
       "    .dataframe tbody tr th {\n",
       "        vertical-align: top;\n",
       "    }\n",
       "\n",
       "    .dataframe thead th {\n",
       "        text-align: right;\n",
       "    }\n",
       "</style>\n",
       "<table border=\"1\" class=\"dataframe\">\n",
       "  <thead>\n",
       "    <tr style=\"text-align: right;\">\n",
       "      <th></th>\n",
       "      <th>Unnamed: 0</th>\n",
       "      <th>song_id</th>\n",
       "      <th>artist</th>\n",
       "      <th>track</th>\n",
       "      <th>popularity</th>\n",
       "    </tr>\n",
       "  </thead>\n",
       "  <tbody>\n",
       "    <tr>\n",
       "      <th>0</th>\n",
       "      <td>0</td>\n",
       "      <td>1znOBqj7UdG0CZcOJMn5zu</td>\n",
       "      <td>Phil Collins</td>\n",
       "      <td>All of My Life - 2016 Remaster</td>\n",
       "      <td>47</td>\n",
       "    </tr>\n",
       "    <tr>\n",
       "      <th>1</th>\n",
       "      <td>1</td>\n",
       "      <td>0jj0UaTbrr1IA24fiOJavo</td>\n",
       "      <td>Kolpa</td>\n",
       "      <td>Ölünmüyor Mutsuzluktan</td>\n",
       "      <td>22</td>\n",
       "    </tr>\n",
       "    <tr>\n",
       "      <th>2</th>\n",
       "      <td>2</td>\n",
       "      <td>3GeGYkJIP9c7JN5cpu6h2Z</td>\n",
       "      <td>AC/DC</td>\n",
       "      <td>Hell Ain't a Bad Place to Be</td>\n",
       "      <td>41</td>\n",
       "    </tr>\n",
       "    <tr>\n",
       "      <th>3</th>\n",
       "      <td>3</td>\n",
       "      <td>0ubuRswGoO0BjJucrTR3Tm</td>\n",
       "      <td>Black Stone Cherry</td>\n",
       "      <td>Remember Me</td>\n",
       "      <td>24</td>\n",
       "    </tr>\n",
       "    <tr>\n",
       "      <th>4</th>\n",
       "      <td>4</td>\n",
       "      <td>2vXm1t3rtVP5SxsTRVUb3g</td>\n",
       "      <td>Stoondio</td>\n",
       "      <td>ภาพจำ</td>\n",
       "      <td>20</td>\n",
       "    </tr>\n",
       "    <tr>\n",
       "      <th>...</th>\n",
       "      <td>...</td>\n",
       "      <td>...</td>\n",
       "      <td>...</td>\n",
       "      <td>...</td>\n",
       "      <td>...</td>\n",
       "    </tr>\n",
       "    <tr>\n",
       "      <th>4009876</th>\n",
       "      <td>0</td>\n",
       "      <td>7C39RtGhnEw7cyf0Pyw7PV</td>\n",
       "      <td>Post Malone</td>\n",
       "      <td>Saint-Tropez</td>\n",
       "      <td>86</td>\n",
       "    </tr>\n",
       "    <tr>\n",
       "      <th>4009877</th>\n",
       "      <td>0</td>\n",
       "      <td>3UYiU57SMiAS5LqolhHJw1</td>\n",
       "      <td>Camila Cabello</td>\n",
       "      <td>Shameless</td>\n",
       "      <td>79</td>\n",
       "    </tr>\n",
       "    <tr>\n",
       "      <th>4009878</th>\n",
       "      <td>0</td>\n",
       "      <td>6hLkeOMrhZ2CMLBp2of576</td>\n",
       "      <td>OneRepublic</td>\n",
       "      <td>Wanted</td>\n",
       "      <td>74</td>\n",
       "    </tr>\n",
       "    <tr>\n",
       "      <th>4009879</th>\n",
       "      <td>0</td>\n",
       "      <td>6cjSh516BbrNUs213jDAGm</td>\n",
       "      <td>benny blanco</td>\n",
       "      <td>Graduation (with Juice WRLD)</td>\n",
       "      <td>80</td>\n",
       "    </tr>\n",
       "    <tr>\n",
       "      <th>4009880</th>\n",
       "      <td>0</td>\n",
       "      <td>5wYG7LnAI1pQU6kwFaJswW</td>\n",
       "      <td>YG</td>\n",
       "      <td>Get Out Yo Feelin's</td>\n",
       "      <td>46</td>\n",
       "    </tr>\n",
       "  </tbody>\n",
       "</table>\n",
       "<p>4009881 rows × 5 columns</p>\n",
       "</div>"
      ],
      "text/plain": [
       "         Unnamed: 0                 song_id              artist  \\\n",
       "0                 0  1znOBqj7UdG0CZcOJMn5zu        Phil Collins   \n",
       "1                 1  0jj0UaTbrr1IA24fiOJavo               Kolpa   \n",
       "2                 2  3GeGYkJIP9c7JN5cpu6h2Z               AC/DC   \n",
       "3                 3  0ubuRswGoO0BjJucrTR3Tm  Black Stone Cherry   \n",
       "4                 4  2vXm1t3rtVP5SxsTRVUb3g            Stoondio   \n",
       "...             ...                     ...                 ...   \n",
       "4009876           0  7C39RtGhnEw7cyf0Pyw7PV         Post Malone   \n",
       "4009877           0  3UYiU57SMiAS5LqolhHJw1      Camila Cabello   \n",
       "4009878           0  6hLkeOMrhZ2CMLBp2of576         OneRepublic   \n",
       "4009879           0  6cjSh516BbrNUs213jDAGm        benny blanco   \n",
       "4009880           0  5wYG7LnAI1pQU6kwFaJswW                  YG   \n",
       "\n",
       "                                  track  popularity  \n",
       "0        All of My Life - 2016 Remaster          47  \n",
       "1                Ölünmüyor Mutsuzluktan          22  \n",
       "2          Hell Ain't a Bad Place to Be          41  \n",
       "3                           Remember Me          24  \n",
       "4                                 ภาพจำ          20  \n",
       "...                                 ...         ...  \n",
       "4009876                    Saint-Tropez          86  \n",
       "4009877                       Shameless          79  \n",
       "4009878                          Wanted          74  \n",
       "4009879    Graduation (with Juice WRLD)          80  \n",
       "4009880             Get Out Yo Feelin's          46  \n",
       "\n",
       "[4009881 rows x 5 columns]"
      ]
     },
     "execution_count": 18,
     "metadata": {},
     "output_type": "execute_result"
    }
   ],
   "source": [
    "df"
   ]
  },
  {
   "cell_type": "code",
   "execution_count": null,
   "metadata": {},
   "outputs": [],
   "source": []
  }
 ],
 "metadata": {
  "kernelspec": {
   "display_name": "Python 3",
   "language": "python",
   "name": "python3"
  },
  "language_info": {
   "codemirror_mode": {
    "name": "ipython",
    "version": 3
   },
   "file_extension": ".py",
   "mimetype": "text/x-python",
   "name": "python",
   "nbconvert_exporter": "python",
   "pygments_lexer": "ipython3",
   "version": "3.7.4"
  }
 },
 "nbformat": 4,
 "nbformat_minor": 4
}
