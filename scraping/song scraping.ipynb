{
 "cells": [
  {
   "cell_type": "code",
   "execution_count": 1,
   "metadata": {},
   "outputs": [
    {
     "name": "stderr",
     "output_type": "stream",
     "text": [
      "unable to import 'smart_open.gcs', disabling that module\n"
     ]
    }
   ],
   "source": [
    "import spotipy\n",
    "import spotipy.oauth2 as oauth2\n",
    "import pandas as pd\n",
    "import time\n",
    "import numpy as np\n",
    "from tqdm import tqdm\n",
    "import warnings\n",
    "warnings.filterwarnings(\"ignore\")\n",
    "import gensim"
   ]
  },
  {
   "cell_type": "code",
   "execution_count": 3,
   "metadata": {},
   "outputs": [],
   "source": [
    "from spotipy.oauth2 import SpotifyClientCredentials\n",
    "\n",
    "client_id='38e94de386924d73b4098a6a28d45070'\n",
    "client_secret='27899e6f31894a6aa3c572268f8658e5'\n",
    "\n",
    "client_credentials_manager = SpotifyClientCredentials(client_id=client_id, client_secret=client_secret)\n",
    "spot = spotipy.Spotify(client_credentials_manager=client_credentials_manager)\n",
    "\n"
   ]
  },
  {
   "cell_type": "code",
   "execution_count": 4,
   "metadata": {},
   "outputs": [],
   "source": [
    "df = pd.read_csv('missing_songs.csv', header=None, names=['ind', 'song_id'])"
   ]
  },
  {
   "cell_type": "code",
   "execution_count": 5,
   "metadata": {},
   "outputs": [],
   "source": [
    "df.drop_duplicates(inplace=True)"
   ]
  },
  {
   "cell_type": "code",
   "execution_count": 6,
   "metadata": {},
   "outputs": [
    {
     "data": {
      "text/plain": [
       "(2040661, 2)"
      ]
     },
     "execution_count": 6,
     "metadata": {},
     "output_type": "execute_result"
    }
   ],
   "source": [
    "df.shape"
   ]
  },
  {
   "cell_type": "code",
   "execution_count": 7,
   "metadata": {},
   "outputs": [],
   "source": [
    "song_ids = df.song_id"
   ]
  },
  {
   "cell_type": "code",
   "execution_count": 8,
   "metadata": {},
   "outputs": [
    {
     "data": {
      "text/plain": [
       "2040661"
      ]
     },
     "execution_count": 8,
     "metadata": {},
     "output_type": "execute_result"
    }
   ],
   "source": [
    "len(song_ids)"
   ]
  },
  {
   "cell_type": "code",
   "execution_count": 9,
   "metadata": {},
   "outputs": [],
   "source": [
    "#missing feat\n",
    "def get_track_artist(song_id):\n",
    "    result =  spot.track(song_id)\n",
    "    artist = result['artists'][0]['name']\n",
    "    track = result['name']\n",
    "    popularity = result['popularity']\n",
    "    x = {'song_id': [song_id], 'artist': [artist], 'track': [track], 'popularity': [popularity]}\n",
    "    df = pd.DataFrame(data=x)\n",
    "    return df"
   ]
  },
  {
   "cell_type": "code",
   "execution_count": 10,
   "metadata": {},
   "outputs": [],
   "source": [
    "# 1850000, 1950000"
   ]
  },
  {
   "cell_type": "code",
   "execution_count": 23,
   "metadata": {},
   "outputs": [
    {
     "name": "stderr",
     "output_type": "stream",
     "text": [
      "  5%|▌         | 7356/140661 [13:09<3:32:29, 10.46it/s] "
     ]
    },
    {
     "name": "stdout",
     "output_type": "stream",
     "text": [
      "retrying ...1secs\n"
     ]
    },
    {
     "name": "stderr",
     "output_type": "stream",
     "text": [
      " 50%|█████     | 70524/140661 [2:09:18<1:51:37, 10.47it/s] "
     ]
    },
    {
     "name": "stdout",
     "output_type": "stream",
     "text": [
      "retrying ...1secs\n"
     ]
    },
    {
     "name": "stderr",
     "output_type": "stream",
     "text": [
      " 54%|█████▍    | 76163/140661 [2:18:59<1:47:07, 10.03it/s]"
     ]
    },
    {
     "name": "stdout",
     "output_type": "stream",
     "text": [
      "retrying ...1secs\n"
     ]
    },
    {
     "name": "stderr",
     "output_type": "stream",
     "text": [
      " 67%|██████▋   | 94489/140661 [2:55:59<1:17:11,  9.97it/s] "
     ]
    },
    {
     "name": "stdout",
     "output_type": "stream",
     "text": [
      "retrying ...1secs\n"
     ]
    },
    {
     "name": "stderr",
     "output_type": "stream",
     "text": [
      " 82%|████████▏ | 114716/140661 [3:37:49<37:56, 11.40it/s]   "
     ]
    },
    {
     "name": "stdout",
     "output_type": "stream",
     "text": [
      "retrying ...1secs\n"
     ]
    },
    {
     "name": "stderr",
     "output_type": "stream",
     "text": [
      " 82%|████████▏ | 115076/140661 [3:38:29<43:04,  9.90it/s]  "
     ]
    },
    {
     "name": "stdout",
     "output_type": "stream",
     "text": [
      "retrying ...1secs\n"
     ]
    },
    {
     "name": "stderr",
     "output_type": "stream",
     "text": [
      " 82%|████████▏ | 115265/140661 [3:38:49<42:14, 10.02it/s]  "
     ]
    },
    {
     "name": "stdout",
     "output_type": "stream",
     "text": [
      "retrying ...1secs\n"
     ]
    },
    {
     "name": "stderr",
     "output_type": "stream",
     "text": [
      "100%|██████████| 140661/140661 [4:31:43<00:00,  8.32it/s]  \n"
     ]
    }
   ],
   "source": [
    "song_frames = []\n",
    "fails = []\n",
    "\n",
    "for i in tqdm(range(1900000,len(song_ids))):\n",
    "    try:\n",
    "        df = get_track_artist(song_ids[i])\n",
    "        song_frames.append(df)\n",
    "    except:\n",
    "        fails.append(song_ids[i])"
   ]
  },
  {
   "cell_type": "code",
   "execution_count": 24,
   "metadata": {},
   "outputs": [],
   "source": [
    "df = pd.concat(song_frames)"
   ]
  },
  {
   "cell_type": "code",
   "execution_count": 25,
   "metadata": {},
   "outputs": [],
   "source": [
    "df.to_csv('scraped_song_ids.csv', mode='a', header=False)\n",
    "pd.DataFrame(fails).to_csv('fails.csv')"
   ]
  },
  {
   "cell_type": "code",
   "execution_count": 26,
   "metadata": {},
   "outputs": [],
   "source": [
    "x = pd.read_csv('scraped_song_ids.csv')"
   ]
  },
  {
   "cell_type": "code",
   "execution_count": 27,
   "metadata": {},
   "outputs": [
    {
     "data": {
      "text/plain": [
       "(4009881, 5)"
      ]
     },
     "execution_count": 27,
     "metadata": {},
     "output_type": "execute_result"
    }
   ],
   "source": [
    "x.shape"
   ]
  },
  {
   "cell_type": "code",
   "execution_count": 28,
   "metadata": {},
   "outputs": [
    {
     "data": {
      "text/plain": [
       "(4009881,)"
      ]
     },
     "execution_count": 28,
     "metadata": {},
     "output_type": "execute_result"
    }
   ],
   "source": [
    "x.artist.shape"
   ]
  },
  {
   "cell_type": "code",
   "execution_count": 29,
   "metadata": {},
   "outputs": [
    {
     "data": {
      "text/plain": [
       "(419329,)"
      ]
     },
     "execution_count": 29,
     "metadata": {},
     "output_type": "execute_result"
    }
   ],
   "source": [
    "x.artist.unique().shape"
   ]
  },
  {
   "cell_type": "code",
   "execution_count": 32,
   "metadata": {},
   "outputs": [
    {
     "data": {
      "text/plain": [
       "(4009881,)"
      ]
     },
     "execution_count": 32,
     "metadata": {},
     "output_type": "execute_result"
    }
   ],
   "source": [
    "x.song_id.shape"
   ]
  },
  {
   "cell_type": "code",
   "execution_count": 30,
   "metadata": {},
   "outputs": [
    {
     "data": {
      "text/plain": [
       "(2749996,)"
      ]
     },
     "execution_count": 30,
     "metadata": {},
     "output_type": "execute_result"
    }
   ],
   "source": [
    "x.song_id.unique().shape"
   ]
  },
  {
   "cell_type": "code",
   "execution_count": 33,
   "metadata": {},
   "outputs": [],
   "source": [
    "old_playlishape= pd.read_csv('scraped_playlists.csv')\n",
    "new_playlists = pd.read_csv('new_scraped_playlists.csv')"
   ]
  },
  {
   "cell_type": "code",
   "execution_count": 34,
   "metadata": {},
   "outputs": [
    {
     "data": {
      "text/plain": [
       "(16254689, 6)"
      ]
     },
     "execution_count": 34,
     "metadata": {},
     "output_type": "execute_result"
    }
   ],
   "source": [
    "new_playlists.shape"
   ]
  },
  {
   "cell_type": "code",
   "execution_count": 35,
   "metadata": {},
   "outputs": [
    {
     "data": {
      "text/plain": [
       "(5319400, 6)"
      ]
     },
     "execution_count": 35,
     "metadata": {},
     "output_type": "execute_result"
    }
   ],
   "source": [
    "old_playlists.shape"
   ]
  },
  {
   "cell_type": "code",
   "execution_count": 36,
   "metadata": {},
   "outputs": [],
   "source": [
    "playlists = pd.concat([old_playlists,new_playlists])"
   ]
  },
  {
   "cell_type": "code",
   "execution_count": 38,
   "metadata": {},
   "outputs": [
    {
     "data": {
      "text/plain": [
       "(21574089, 6)"
      ]
     },
     "execution_count": 38,
     "metadata": {},
     "output_type": "execute_result"
    }
   ],
   "source": [
    "#combine playlist dataframes check for dups and then make into master playlist frame to be merged\n",
    "playlists.shape"
   ]
  },
  {
   "cell_type": "code",
   "execution_count": 40,
   "metadata": {},
   "outputs": [
    {
     "data": {
      "text/html": [
       "<div>\n",
       "<style scoped>\n",
       "    .dataframe tbody tr th:only-of-type {\n",
       "        vertical-align: middle;\n",
       "    }\n",
       "\n",
       "    .dataframe tbody tr th {\n",
       "        vertical-align: top;\n",
       "    }\n",
       "\n",
       "    .dataframe thead th {\n",
       "        text-align: right;\n",
       "    }\n",
       "</style>\n",
       "<table border=\"1\" class=\"dataframe\">\n",
       "  <thead>\n",
       "    <tr style=\"text-align: right;\">\n",
       "      <th></th>\n",
       "      <th>Unnamed: 0</th>\n",
       "      <th>song_id</th>\n",
       "      <th>playlist_id</th>\n",
       "      <th>playlist_name</th>\n",
       "      <th>user_id</th>\n",
       "      <th>followers</th>\n",
       "    </tr>\n",
       "  </thead>\n",
       "  <tbody>\n",
       "    <tr>\n",
       "      <th>0</th>\n",
       "      <td>0</td>\n",
       "      <td>6HfVKTa0AA4k49FqXtxd3S</td>\n",
       "      <td>3nnKwI4n769FO2KPI3dfk1</td>\n",
       "      <td>stiles stilinski</td>\n",
       "      <td>_erin_morgan_</td>\n",
       "      <td>4.0</td>\n",
       "    </tr>\n",
       "    <tr>\n",
       "      <th>1</th>\n",
       "      <td>1</td>\n",
       "      <td>3pf6HWXtEalIWoZcPTFbc6</td>\n",
       "      <td>3nnKwI4n769FO2KPI3dfk1</td>\n",
       "      <td>stiles stilinski</td>\n",
       "      <td>_erin_morgan_</td>\n",
       "      <td>4.0</td>\n",
       "    </tr>\n",
       "    <tr>\n",
       "      <th>2</th>\n",
       "      <td>2</td>\n",
       "      <td>0ofHAoxe9vBkTCp2UQIavz</td>\n",
       "      <td>3nnKwI4n769FO2KPI3dfk1</td>\n",
       "      <td>stiles stilinski</td>\n",
       "      <td>_erin_morgan_</td>\n",
       "      <td>4.0</td>\n",
       "    </tr>\n",
       "    <tr>\n",
       "      <th>3</th>\n",
       "      <td>3</td>\n",
       "      <td>3dwvT66ZwtwlIZl3IISe6X</td>\n",
       "      <td>3nnKwI4n769FO2KPI3dfk1</td>\n",
       "      <td>stiles stilinski</td>\n",
       "      <td>_erin_morgan_</td>\n",
       "      <td>4.0</td>\n",
       "    </tr>\n",
       "    <tr>\n",
       "      <th>4</th>\n",
       "      <td>4</td>\n",
       "      <td>1t0UbGPCjGpLeH7KiLBuBv</td>\n",
       "      <td>3nnKwI4n769FO2KPI3dfk1</td>\n",
       "      <td>stiles stilinski</td>\n",
       "      <td>_erin_morgan_</td>\n",
       "      <td>4.0</td>\n",
       "    </tr>\n",
       "  </tbody>\n",
       "</table>\n",
       "</div>"
      ],
      "text/plain": [
       "   Unnamed: 0                 song_id             playlist_id  \\\n",
       "0           0  6HfVKTa0AA4k49FqXtxd3S  3nnKwI4n769FO2KPI3dfk1   \n",
       "1           1  3pf6HWXtEalIWoZcPTFbc6  3nnKwI4n769FO2KPI3dfk1   \n",
       "2           2  0ofHAoxe9vBkTCp2UQIavz  3nnKwI4n769FO2KPI3dfk1   \n",
       "3           3  3dwvT66ZwtwlIZl3IISe6X  3nnKwI4n769FO2KPI3dfk1   \n",
       "4           4  1t0UbGPCjGpLeH7KiLBuBv  3nnKwI4n769FO2KPI3dfk1   \n",
       "\n",
       "      playlist_name        user_id  followers  \n",
       "0  stiles stilinski  _erin_morgan_        4.0  \n",
       "1  stiles stilinski  _erin_morgan_        4.0  \n",
       "2  stiles stilinski  _erin_morgan_        4.0  \n",
       "3  stiles stilinski  _erin_morgan_        4.0  \n",
       "4  stiles stilinski  _erin_morgan_        4.0  "
      ]
     },
     "execution_count": 40,
     "metadata": {},
     "output_type": "execute_result"
    }
   ],
   "source": [
    "playlists.head()"
   ]
  },
  {
   "cell_type": "code",
   "execution_count": 42,
   "metadata": {},
   "outputs": [],
   "source": [
    "playlists.drop(columns=['Unnamed: 0'],inplace=True)"
   ]
  },
  {
   "cell_type": "code",
   "execution_count": 43,
   "metadata": {},
   "outputs": [
    {
     "data": {
      "text/plain": [
       "9966902"
      ]
     },
     "execution_count": 43,
     "metadata": {},
     "output_type": "execute_result"
    }
   ],
   "source": [
    "playlists.shape[0] - playlists.drop_duplicates(subset=['song_id','playlist_id','playlist_name']).shape[0]"
   ]
  },
  {
   "cell_type": "code",
   "execution_count": 44,
   "metadata": {},
   "outputs": [
    {
     "data": {
      "text/plain": [
       "song_id          41490\n",
       "playlist_id          0\n",
       "playlist_name      437\n",
       "user_id            283\n",
       "followers         2897\n",
       "dtype: int64"
      ]
     },
     "execution_count": 44,
     "metadata": {},
     "output_type": "execute_result"
    }
   ],
   "source": [
    "playlists.isnull().sum()"
   ]
  },
  {
   "cell_type": "code",
   "execution_count": 45,
   "metadata": {},
   "outputs": [],
   "source": [
    "playlists.dropna(subset=['song_id'],inplace=True)"
   ]
  },
  {
   "cell_type": "code",
   "execution_count": 46,
   "metadata": {},
   "outputs": [
    {
     "data": {
      "text/plain": [
       "song_id             0\n",
       "playlist_id         0\n",
       "playlist_name     437\n",
       "user_id           283\n",
       "followers        2889\n",
       "dtype: int64"
      ]
     },
     "execution_count": 46,
     "metadata": {},
     "output_type": "execute_result"
    }
   ],
   "source": [
    "playlists.isnull().sum()"
   ]
  },
  {
   "cell_type": "code",
   "execution_count": 47,
   "metadata": {},
   "outputs": [
    {
     "data": {
      "text/plain": [
       "9930529"
      ]
     },
     "execution_count": 47,
     "metadata": {},
     "output_type": "execute_result"
    }
   ],
   "source": [
    "playlists.shape[0] - playlists.drop_duplicates(subset=['song_id','playlist_id','playlist_name']).shape[0]"
   ]
  },
  {
   "cell_type": "code",
   "execution_count": 48,
   "metadata": {},
   "outputs": [],
   "source": [
    "playlists.to_csv('playlists_final.csv')"
   ]
  },
  {
   "cell_type": "code",
   "execution_count": 19,
   "metadata": {},
   "outputs": [
    {
     "ename": "TypeError",
     "evalue": "parser_f() got an unexpected keyword argument 'index'",
     "output_type": "error",
     "traceback": [
      "\u001b[0;31m---------------------------------------------------------------------------\u001b[0m",
      "\u001b[0;31mTypeError\u001b[0m                                 Traceback (most recent call last)",
      "\u001b[0;32m<ipython-input-19-d9b7ba6fbd5c>\u001b[0m in \u001b[0;36m<module>\u001b[0;34m\u001b[0m\n\u001b[0;32m----> 1\u001b[0;31m \u001b[0mdf\u001b[0m \u001b[0;34m=\u001b[0m \u001b[0mpd\u001b[0m\u001b[0;34m.\u001b[0m\u001b[0mread_csv\u001b[0m\u001b[0;34m(\u001b[0m\u001b[0;34m\"scraped_song_ids_2019.csv\"\u001b[0m\u001b[0;34m,\u001b[0m\u001b[0mindex\u001b[0m\u001b[0;34m=\u001b[0m\u001b[0;34m[\u001b[0m\u001b[0;36m0\u001b[0m\u001b[0;34m]\u001b[0m\u001b[0;34m)\u001b[0m\u001b[0;34m\u001b[0m\u001b[0;34m\u001b[0m\u001b[0m\n\u001b[0m",
      "\u001b[0;31mTypeError\u001b[0m: parser_f() got an unexpected keyword argument 'index'"
     ]
    }
   ],
   "source": [
    "df = pd.read_csv(\"scraped_song_ids_2019.csv\",index_col==[0])"
   ]
  },
  {
   "cell_type": "code",
   "execution_count": 18,
   "metadata": {},
   "outputs": [
    {
     "data": {
      "text/html": [
       "<div>\n",
       "<style scoped>\n",
       "    .dataframe tbody tr th:only-of-type {\n",
       "        vertical-align: middle;\n",
       "    }\n",
       "\n",
       "    .dataframe tbody tr th {\n",
       "        vertical-align: top;\n",
       "    }\n",
       "\n",
       "    .dataframe thead th {\n",
       "        text-align: right;\n",
       "    }\n",
       "</style>\n",
       "<table border=\"1\" class=\"dataframe\">\n",
       "  <thead>\n",
       "    <tr style=\"text-align: right;\">\n",
       "      <th></th>\n",
       "      <th>Unnamed: 0</th>\n",
       "      <th>song_id</th>\n",
       "      <th>artist</th>\n",
       "      <th>track</th>\n",
       "      <th>popularity</th>\n",
       "    </tr>\n",
       "  </thead>\n",
       "  <tbody>\n",
       "    <tr>\n",
       "      <th>0</th>\n",
       "      <td>0</td>\n",
       "      <td>1znOBqj7UdG0CZcOJMn5zu</td>\n",
       "      <td>Phil Collins</td>\n",
       "      <td>All of My Life - 2016 Remaster</td>\n",
       "      <td>47</td>\n",
       "    </tr>\n",
       "    <tr>\n",
       "      <th>1</th>\n",
       "      <td>1</td>\n",
       "      <td>0jj0UaTbrr1IA24fiOJavo</td>\n",
       "      <td>Kolpa</td>\n",
       "      <td>Ölünmüyor Mutsuzluktan</td>\n",
       "      <td>22</td>\n",
       "    </tr>\n",
       "    <tr>\n",
       "      <th>2</th>\n",
       "      <td>2</td>\n",
       "      <td>3GeGYkJIP9c7JN5cpu6h2Z</td>\n",
       "      <td>AC/DC</td>\n",
       "      <td>Hell Ain't a Bad Place to Be</td>\n",
       "      <td>41</td>\n",
       "    </tr>\n",
       "    <tr>\n",
       "      <th>3</th>\n",
       "      <td>3</td>\n",
       "      <td>0ubuRswGoO0BjJucrTR3Tm</td>\n",
       "      <td>Black Stone Cherry</td>\n",
       "      <td>Remember Me</td>\n",
       "      <td>24</td>\n",
       "    </tr>\n",
       "    <tr>\n",
       "      <th>4</th>\n",
       "      <td>4</td>\n",
       "      <td>2vXm1t3rtVP5SxsTRVUb3g</td>\n",
       "      <td>Stoondio</td>\n",
       "      <td>ภาพจำ</td>\n",
       "      <td>20</td>\n",
       "    </tr>\n",
       "    <tr>\n",
       "      <th>...</th>\n",
       "      <td>...</td>\n",
       "      <td>...</td>\n",
       "      <td>...</td>\n",
       "      <td>...</td>\n",
       "      <td>...</td>\n",
       "    </tr>\n",
       "    <tr>\n",
       "      <th>4009876</th>\n",
       "      <td>0</td>\n",
       "      <td>7C39RtGhnEw7cyf0Pyw7PV</td>\n",
       "      <td>Post Malone</td>\n",
       "      <td>Saint-Tropez</td>\n",
       "      <td>86</td>\n",
       "    </tr>\n",
       "    <tr>\n",
       "      <th>4009877</th>\n",
       "      <td>0</td>\n",
       "      <td>3UYiU57SMiAS5LqolhHJw1</td>\n",
       "      <td>Camila Cabello</td>\n",
       "      <td>Shameless</td>\n",
       "      <td>79</td>\n",
       "    </tr>\n",
       "    <tr>\n",
       "      <th>4009878</th>\n",
       "      <td>0</td>\n",
       "      <td>6hLkeOMrhZ2CMLBp2of576</td>\n",
       "      <td>OneRepublic</td>\n",
       "      <td>Wanted</td>\n",
       "      <td>74</td>\n",
       "    </tr>\n",
       "    <tr>\n",
       "      <th>4009879</th>\n",
       "      <td>0</td>\n",
       "      <td>6cjSh516BbrNUs213jDAGm</td>\n",
       "      <td>benny blanco</td>\n",
       "      <td>Graduation (with Juice WRLD)</td>\n",
       "      <td>80</td>\n",
       "    </tr>\n",
       "    <tr>\n",
       "      <th>4009880</th>\n",
       "      <td>0</td>\n",
       "      <td>5wYG7LnAI1pQU6kwFaJswW</td>\n",
       "      <td>YG</td>\n",
       "      <td>Get Out Yo Feelin's</td>\n",
       "      <td>46</td>\n",
       "    </tr>\n",
       "  </tbody>\n",
       "</table>\n",
       "<p>4009881 rows × 5 columns</p>\n",
       "</div>"
      ],
      "text/plain": [
       "         Unnamed: 0                 song_id              artist  \\\n",
       "0                 0  1znOBqj7UdG0CZcOJMn5zu        Phil Collins   \n",
       "1                 1  0jj0UaTbrr1IA24fiOJavo               Kolpa   \n",
       "2                 2  3GeGYkJIP9c7JN5cpu6h2Z               AC/DC   \n",
       "3                 3  0ubuRswGoO0BjJucrTR3Tm  Black Stone Cherry   \n",
       "4                 4  2vXm1t3rtVP5SxsTRVUb3g            Stoondio   \n",
       "...             ...                     ...                 ...   \n",
       "4009876           0  7C39RtGhnEw7cyf0Pyw7PV         Post Malone   \n",
       "4009877           0  3UYiU57SMiAS5LqolhHJw1      Camila Cabello   \n",
       "4009878           0  6hLkeOMrhZ2CMLBp2of576         OneRepublic   \n",
       "4009879           0  6cjSh516BbrNUs213jDAGm        benny blanco   \n",
       "4009880           0  5wYG7LnAI1pQU6kwFaJswW                  YG   \n",
       "\n",
       "                                  track  popularity  \n",
       "0        All of My Life - 2016 Remaster          47  \n",
       "1                Ölünmüyor Mutsuzluktan          22  \n",
       "2          Hell Ain't a Bad Place to Be          41  \n",
       "3                           Remember Me          24  \n",
       "4                                 ภาพจำ          20  \n",
       "...                                 ...         ...  \n",
       "4009876                    Saint-Tropez          86  \n",
       "4009877                       Shameless          79  \n",
       "4009878                          Wanted          74  \n",
       "4009879    Graduation (with Juice WRLD)          80  \n",
       "4009880             Get Out Yo Feelin's          46  \n",
       "\n",
       "[4009881 rows x 5 columns]"
      ]
     },
     "execution_count": 18,
     "metadata": {},
     "output_type": "execute_result"
    }
   ],
   "source": [
    "df"
   ]
  },
  {
   "cell_type": "code",
   "execution_count": null,
   "metadata": {},
   "outputs": [],
   "source": []
  }
 ],
 "metadata": {
  "kernelspec": {
   "display_name": "Python 3",
   "language": "python",
   "name": "python3"
  },
  "language_info": {
   "codemirror_mode": {
    "name": "ipython",
    "version": 3
   },
   "file_extension": ".py",
   "mimetype": "text/x-python",
   "name": "python",
   "nbconvert_exporter": "python",
   "pygments_lexer": "ipython3",
   "version": "3.7.4"
  }
 },
 "nbformat": 4,
 "nbformat_minor": 4
}
