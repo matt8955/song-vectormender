{
 "cells": [
  {
   "cell_type": "code",
   "execution_count": 1,
   "metadata": {},
   "outputs": [],
   "source": [
    "import pandas as pd\n",
    "import numpy as np\n",
    "import re\n",
    "from tqdm import tqdm\n",
    "tqdm.pandas()\n",
    "import warnings\n",
    "warnings.filterwarnings(\"ignore\")\n",
    "import spotipy\n",
    "import spotipy.oauth2 as oauth2"
   ]
  },
  {
   "cell_type": "code",
   "execution_count": 2,
   "metadata": {},
   "outputs": [],
   "source": [
    "from spotipy.oauth2 import SpotifyClientCredentials\n",
    "\n",
    "client_id='2264c5e5d4c1469d812c8097babe7e42'\n",
    "client_secret='2050b324730b46aea17caa8e51175da9'\n",
    "\n",
    "client_credentials_manager = SpotifyClientCredentials(client_id=client_id, client_secret=client_secret)\n",
    "spot = spotipy.Spotify(client_credentials_manager=client_credentials_manager)"
   ]
  },
  {
   "cell_type": "code",
   "execution_count": 26,
   "metadata": {},
   "outputs": [],
   "source": [
    "import os\n",
    "\n",
    "def find_csv_filenames( path_to_dir, suffix=\".csv\" ):\n",
    "    filenames = os.listdir(path_to_dir)\n",
    "    return [ filename for filename in filenames if (filename.endswith(suffix) and filename.startswith('all_playlist'))]"
   ]
  },
  {
   "cell_type": "code",
   "execution_count": 57,
   "metadata": {},
   "outputs": [],
   "source": [
    "csvs = find_csv_filenames(os.getcwd())\n",
    "csvs.sort(reverse=True)"
   ]
  },
  {
   "cell_type": "code",
   "execution_count": 58,
   "metadata": {},
   "outputs": [
    {
     "data": {
      "text/plain": [
       "['all_playlist_ids2019-08-23.csv',\n",
       " 'all_playlist_ids2019-08-07.csv',\n",
       " 'all_playlist_ids2019-07-05.csv',\n",
       " 'all_playlist_ids2019-06-22.csv',\n",
       " 'all_playlist_ids2019-05-23.csv',\n",
       " 'all_playlist_ids2019-04-29.csv',\n",
       " 'all_playlist_ids2019-04-23.csv',\n",
       " 'all_playlist_ids2019-04-22.csv',\n",
       " 'all_playlist_ids2019-04-19.csv',\n",
       " 'all_playlist_ids2019-04-08.csv',\n",
       " 'all_playlist_ids2019-04-06.csv',\n",
       " 'all_playlist_ids2019-04-05.csv',\n",
       " 'all_playlist_ids2019-01-09.csv',\n",
       " 'all_playlist_ids2018-12-25.csv',\n",
       " 'all_playlist_ids2018-11-22.csv',\n",
       " 'all_playlist_ids2018-11-15.csv',\n",
       " 'all_playlist_ids2018-10-31.csv',\n",
       " 'all_playlist_ids2018-10-19.csv',\n",
       " 'all_playlist_ids2018-10-12.csv',\n",
       " 'all_playlist_ids2018-10-10.csv',\n",
       " 'all_playlist_ids2018-09-13.csv',\n",
       " 'all_playlist_ids2018-09-12.csv',\n",
       " 'all_playlist_ids2018-09-11.csv']"
      ]
     },
     "execution_count": 58,
     "metadata": {},
     "output_type": "execute_result"
    }
   ],
   "source": [
    "csvs"
   ]
  },
  {
   "cell_type": "code",
   "execution_count": 59,
   "metadata": {},
   "outputs": [],
   "source": [
    "csvs = csvs[2:].copy()"
   ]
  },
  {
   "cell_type": "code",
   "execution_count": null,
   "metadata": {},
   "outputs": [],
   "source": [
    "dfs = [pd.read_csv(csv, headers=False) for df in csvs]"
   ]
  },
  {
   "cell_type": "code",
   "execution_count": 2,
   "metadata": {},
   "outputs": [],
   "source": [
    "def update_word_counts(playlist_id):\n",
    "    try:\n",
    "        result = spot.user_playlist(user = None, playlist_id= playlist_id)\n",
    "        playlist_name = result['name']\n",
    "        tracks = result['tracks']['items']\n",
    "        tracklist = []\n",
    "        for track in tracks:\n",
    "            try:\n",
    "                tid = track['track']['id']\n",
    "                tracklist.append(tid)\n",
    "            except:\n",
    "                continue\n",
    "        df = pd.DataFrame(tracklist)\n",
    "        df['playlist_id'] = playlist_id\n",
    "        df['playlist_name'] = result['name']\n",
    "        df['user_id'] = result['owner']['id']\n",
    "        try:\n",
    "            df['followers'] = result['followers']['total']\n",
    "        except:\n",
    "            np.nan\n",
    "        return (playlist_id,df)\n",
    "    \n",
    "    except spotipy.SpotifyException:\n",
    "        return (0, playlist_id)\n"
   ]
  },
  {
   "cell_type": "code",
   "execution_count": 5,
   "metadata": {},
   "outputs": [],
   "source": [
    "result = spot.user_playlist(playlist_id='0s5y6uoZh4RAHnOuPEqhlg?si=V2PD78muSRabd_Jggh3FiA',user = None)"
   ]
  },
  {
   "cell_type": "code",
   "execution_count": 7,
   "metadata": {},
   "outputs": [
    {
     "data": {
      "text/plain": [
       "'mfingerhood'"
      ]
     },
     "execution_count": 7,
     "metadata": {},
     "output_type": "execute_result"
    }
   ],
   "source": [
    "result['owner']['id']"
   ]
  },
  {
   "cell_type": "code",
   "execution_count": null,
   "metadata": {},
   "outputs": [],
   "source": [
    "i=1\n",
    "for df in dfs:\n",
    "    print(f'start {i}')\n",
    "    df.dropna(inplace=True)\n",
    "    df.drop_duplicates(subset=['playlist_ids'],inplace=True)\n",
    "    df.reset_index(inplace=True)\n",
    "    \n",
    "    framelist = []\n",
    "#     fails = []\n",
    "\n",
    "    for i in tqdm(range(len(df.playlist_ids))):\n",
    "        x = update_word_counts(df.playlist_ids[i])\n",
    "        if x[0] ==0:\n",
    "            fails.append(x[1])\n",
    "        else:\n",
    "            framelist.append(x[1])\n",
    "    \n",
    "    df = pd.concat(framelist)\n",
    "    df.columns = ['song_id', 'playlist_id', 'playlist_name', 'user_id', 'followers']\n",
    "    df.to_csv('new_scraped_playlists.csv', mode='a', header=False)\n",
    "    i+=1"
   ]
  },
  {
   "cell_type": "code",
   "execution_count": 21,
   "metadata": {},
   "outputs": [],
   "source": [
    "df = pd.concat(framelist)"
   ]
  },
  {
   "cell_type": "code",
   "execution_count": 23,
   "metadata": {},
   "outputs": [],
   "source": [
    "df.columns = ['song_id', 'playlist_id', 'playlist_name', 'user_id', 'followers']"
   ]
  },
  {
   "cell_type": "code",
   "execution_count": 25,
   "metadata": {},
   "outputs": [],
   "source": [
    "df.to_csv('new_scraped_playlists.csv', mode='a', header=False)"
   ]
  },
  {
   "cell_type": "code",
   "execution_count": null,
   "metadata": {},
   "outputs": [],
   "source": []
  }
 ],
 "metadata": {
  "kernelspec": {
   "display_name": "Python 3",
   "language": "python",
   "name": "python3"
  },
  "language_info": {
   "codemirror_mode": {
    "name": "ipython",
    "version": 3
   },
   "file_extension": ".py",
   "mimetype": "text/x-python",
   "name": "python",
   "nbconvert_exporter": "python",
   "pygments_lexer": "ipython3",
   "version": "3.7.3"
  }
 },
 "nbformat": 4,
 "nbformat_minor": 4
}
