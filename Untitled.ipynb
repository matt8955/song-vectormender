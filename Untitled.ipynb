{
 "cells": [
  {
   "cell_type": "code",
   "execution_count": 1,
   "metadata": {},
   "outputs": [],
   "source": [
    "import numpy as np \n",
    "import pandas as pd"
   ]
  },
  {
   "cell_type": "code",
   "execution_count": 2,
   "metadata": {},
   "outputs": [],
   "source": [
    "playlists = pd.read_csv('playlists.csv', header=None)"
   ]
  },
  {
   "cell_type": "code",
   "execution_count": 4,
   "metadata": {},
   "outputs": [
    {
     "data": {
      "text/html": [
       "<div>\n",
       "<style scoped>\n",
       "    .dataframe tbody tr th:only-of-type {\n",
       "        vertical-align: middle;\n",
       "    }\n",
       "\n",
       "    .dataframe tbody tr th {\n",
       "        vertical-align: top;\n",
       "    }\n",
       "\n",
       "    .dataframe thead th {\n",
       "        text-align: right;\n",
       "    }\n",
       "</style>\n",
       "<table border=\"1\" class=\"dataframe\">\n",
       "  <thead>\n",
       "    <tr style=\"text-align: right;\">\n",
       "      <th></th>\n",
       "      <th>0</th>\n",
       "    </tr>\n",
       "  </thead>\n",
       "  <tbody>\n",
       "    <tr>\n",
       "      <th>0</th>\n",
       "      <td>Road Scholar Music - Time Out;m6987rtt6g366efq...</td>\n",
       "    </tr>\n",
       "    <tr>\n",
       "      <th>1</th>\n",
       "      <td>Unique vibes &amp; melodies 🎯;31uamur27hmf7inbjwty...</td>\n",
       "    </tr>\n",
       "    <tr>\n",
       "      <th>2</th>\n",
       "      <td>EVERYONE HAS A PERSONAL JESUS;shacklebones;5dc...</td>\n",
       "    </tr>\n",
       "    <tr>\n",
       "      <th>3</th>\n",
       "      <td>Meg and Nicki;1gyv5wm7stq6hlvgogcrqknmy;0atlzO...</td>\n",
       "    </tr>\n",
       "    <tr>\n",
       "      <th>4</th>\n",
       "      <td>🔥;9457x2uhyu3ddu3xgtp75zn7b;3vkJQv4A2LPtVQYJbW...</td>\n",
       "    </tr>\n",
       "  </tbody>\n",
       "</table>\n",
       "</div>"
      ],
      "text/plain": [
       "                                                   0\n",
       "0  Road Scholar Music - Time Out;m6987rtt6g366efq...\n",
       "1  Unique vibes & melodies 🎯;31uamur27hmf7inbjwty...\n",
       "2  EVERYONE HAS A PERSONAL JESUS;shacklebones;5dc...\n",
       "3  Meg and Nicki;1gyv5wm7stq6hlvgogcrqknmy;0atlzO...\n",
       "4  🔥;9457x2uhyu3ddu3xgtp75zn7b;3vkJQv4A2LPtVQYJbW..."
      ]
     },
     "execution_count": 4,
     "metadata": {},
     "output_type": "execute_result"
    }
   ],
   "source": [
    "playlists.head()"
   ]
  },
  {
   "cell_type": "code",
   "execution_count": 5,
   "metadata": {},
   "outputs": [],
   "source": [
    "playlists.columns = ['playlist']"
   ]
  },
  {
   "cell_type": "code",
   "execution_count": 52,
   "metadata": {},
   "outputs": [
    {
     "data": {
      "text/plain": [
       "['B:sides 2006-11-06 ~ Lampshade',\n",
       " 'lennarrrt',\n",
       " '2PeiO2DtK7I2JCNrrmNX5t',\n",
       " '33VvDuXBCt08eYv2VISrDP',\n",
       " '0gn4pPnle5V23jCqhHrE9p',\n",
       " '4YUO2SHOd25nYJsTqjtKHP',\n",
       " '4wH7Te90lE58398PTVBHul',\n",
       " '3K5ltOeizBaDFvSyYeQXsP',\n",
       " '4NPlBtBysSBTnbceXhSeqq',\n",
       " '4QeeB4ZaHaoGz7aVjIJgOX']"
      ]
     },
     "execution_count": 52,
     "metadata": {},
     "output_type": "execute_result"
    }
   ],
   "source": [
    "playlists.playlist[55555].split(\";\")"
   ]
  },
  {
   "cell_type": "code",
   "execution_count": 7,
   "metadata": {},
   "outputs": [],
   "source": [
    "tracks = pd.read_csv('tracks.csv', header=None)"
   ]
  },
  {
   "cell_type": "code",
   "execution_count": 8,
   "metadata": {},
   "outputs": [],
   "source": [
    "tracks.columns = ['tracks']"
   ]
  },
  {
   "cell_type": "code",
   "execution_count": 9,
   "metadata": {},
   "outputs": [
    {
     "data": {
      "text/plain": [
       "(7448716, 1)"
      ]
     },
     "execution_count": 9,
     "metadata": {},
     "output_type": "execute_result"
    }
   ],
   "source": [
    "tracks.shape"
   ]
  },
  {
   "cell_type": "code",
   "execution_count": 54,
   "metadata": {},
   "outputs": [
    {
     "data": {
      "text/plain": [
       "['David Bowie',\n",
       " 'Fashion - 2017 Remaster',\n",
       " 'https://p.scdn.co/mp3-preview/d22a59a3087faccb9c40d5b039e1b8bd2c25831c?cid=2264c5e5d4c1469d812c8097babe7e42',\n",
       " '']"
      ]
     },
     "execution_count": 54,
     "metadata": {},
     "output_type": "execute_result"
    }
   ],
   "source": [
    "tracks.tracks[76474].split(\";\")[1:]"
   ]
  },
  {
   "cell_type": "code",
   "execution_count": 19,
   "metadata": {},
   "outputs": [],
   "source": [
    "df = pd.read_csv(\"playlists_temp.csv\",header=None)\n",
    "df.columns = ['pid']"
   ]
  },
  {
   "cell_type": "code",
   "execution_count": 23,
   "metadata": {},
   "outputs": [
    {
     "data": {
      "text/plain": [
       "(727530, 1)"
      ]
     },
     "execution_count": 23,
     "metadata": {},
     "output_type": "execute_result"
    }
   ],
   "source": [
    "df.shape"
   ]
  },
  {
   "cell_type": "code",
   "execution_count": 31,
   "metadata": {},
   "outputs": [
    {
     "data": {
      "text/plain": [
       "'0pQzSiFfWe0SZ987k6zQhO;Movidas con bandas mix para bailar;Maria G Suarez'"
      ]
     },
     "execution_count": 31,
     "metadata": {},
     "output_type": "execute_result"
    }
   ],
   "source": [
    "df.pid[72753]"
   ]
  },
  {
   "cell_type": "code",
   "execution_count": 55,
   "metadata": {},
   "outputs": [],
   "source": [
    "pid_dicts = [{'pid' : x[0] , 'playlist_name': x[1], 'creator': x[2]} for x in\n",
    " [x.split(';') for x in df.pid]]"
   ]
  },
  {
   "cell_type": "code",
   "execution_count": 57,
   "metadata": {},
   "outputs": [],
   "source": [
    "playlist = [{'name' : x[0] , 'creator': x[1], 'tracks': x[2:]} for x in\n",
    " [x.split(';') for x in playlists.playlist]]"
   ]
  },
  {
   "cell_type": "code",
   "execution_count": 59,
   "metadata": {},
   "outputs": [],
   "source": [
    "playlists = pd.DataFrame(playlist)"
   ]
  },
  {
   "cell_type": "code",
   "execution_count": 60,
   "metadata": {},
   "outputs": [],
   "source": [
    "track = [{'artist' : x[0] , 'song': x[1], 'url_preview': x[2], 'not sure': x[3]} for x in\n",
    " [x.split(';') for x in tracks.tracks]]"
   ]
  },
  {
   "cell_type": "code",
   "execution_count": 61,
   "metadata": {},
   "outputs": [],
   "source": [
    "tracks_df = pd.DataFrame(track)"
   ]
  },
  {
   "cell_type": "code",
   "execution_count": 69,
   "metadata": {},
   "outputs": [
    {
     "data": {
      "text/html": [
       "<div>\n",
       "<style scoped>\n",
       "    .dataframe tbody tr th:only-of-type {\n",
       "        vertical-align: middle;\n",
       "    }\n",
       "\n",
       "    .dataframe tbody tr th {\n",
       "        vertical-align: top;\n",
       "    }\n",
       "\n",
       "    .dataframe thead th {\n",
       "        text-align: right;\n",
       "    }\n",
       "</style>\n",
       "<table border=\"1\" class=\"dataframe\">\n",
       "  <thead>\n",
       "    <tr style=\"text-align: right;\">\n",
       "      <th></th>\n",
       "      <th>name</th>\n",
       "      <th>creator</th>\n",
       "      <th>tracks</th>\n",
       "    </tr>\n",
       "  </thead>\n",
       "  <tbody>\n",
       "    <tr>\n",
       "      <th>0</th>\n",
       "      <td>Road Scholar Music - Time Out</td>\n",
       "      <td>m6987rtt6g366efqfmc5wyhyz</td>\n",
       "      <td>[5GPIwdNn1RA4d9rn82oJEM, 1Mtz6qh9llg6ixvuvrE35...</td>\n",
       "    </tr>\n",
       "    <tr>\n",
       "      <th>1</th>\n",
       "      <td>Unique vibes &amp; melodies 🎯</td>\n",
       "      <td>31uamur27hmf7inbjwty5snu5guq</td>\n",
       "      <td>[41MCdlvXOl62B7Kv86Bb1v, 4CNcRgjGw1v9VQaTaytdn...</td>\n",
       "    </tr>\n",
       "    <tr>\n",
       "      <th>2</th>\n",
       "      <td>EVERYONE HAS A PERSONAL JESUS</td>\n",
       "      <td>shacklebones</td>\n",
       "      <td>[5dcwiQFqn0mTcWewYIv7MV, 7dhM0KUBxuZV9z5iNodLy...</td>\n",
       "    </tr>\n",
       "    <tr>\n",
       "      <th>3</th>\n",
       "      <td>Meg and Nicki</td>\n",
       "      <td>1gyv5wm7stq6hlvgogcrqknmy</td>\n",
       "      <td>[0atlzOheGQinatffOCwaJn, 4RjO06903bR59kYRulI1z...</td>\n",
       "    </tr>\n",
       "    <tr>\n",
       "      <th>4</th>\n",
       "      <td>🔥</td>\n",
       "      <td>9457x2uhyu3ddu3xgtp75zn7b</td>\n",
       "      <td>[3vkJQv4A2LPtVQYJbWhIQ0, 3orEOtd8CPL8GFlpRpKuo...</td>\n",
       "    </tr>\n",
       "    <tr>\n",
       "      <th>...</th>\n",
       "      <td>...</td>\n",
       "      <td>...</td>\n",
       "      <td>...</td>\n",
       "    </tr>\n",
       "    <tr>\n",
       "      <th>506078</th>\n",
       "      <td>Candyman (Soundtrack)</td>\n",
       "      <td>j_j83</td>\n",
       "      <td>[6JRcFgCSzZ7v2BlRSksJ1A, 7EcvUcEhHiVkbBIo355Xe...</td>\n",
       "    </tr>\n",
       "    <tr>\n",
       "      <th>506079</th>\n",
       "      <td>The Sound of Swedish Techno</td>\n",
       "      <td>thesoundsofspotify</td>\n",
       "      <td>[1lbUtnuS8AYvKd0lziKpJ4, 10lwnnYRW368Ek39blTQ0...</td>\n",
       "    </tr>\n",
       "    <tr>\n",
       "      <th>506080</th>\n",
       "      <td>Chill Dulu</td>\n",
       "      <td>21l3nykspo7spysgt26y45j6y</td>\n",
       "      <td>[58dSdjfEYNSxte1aNVxuNf, 0PZRlp2wrQDausamlangt...</td>\n",
       "    </tr>\n",
       "    <tr>\n",
       "      <th>506081</th>\n",
       "      <td>PRE GAME HYPE</td>\n",
       "      <td>jlg_syg</td>\n",
       "      <td>[4cg1yakyRSIOjxKM2I7J1q, 29sLYS3n2r2mhmRqHM33B...</td>\n",
       "    </tr>\n",
       "    <tr>\n",
       "      <th>506082</th>\n",
       "      <td>Some Tunes That Got My Interest (76)</td>\n",
       "      <td>224ez6j66e7k7mxjbxmi7t6qa</td>\n",
       "      <td>[7qMvPrryl4s5CsfwOgMPgF, 19TOAlTFq0NDHvUPQR0tk...</td>\n",
       "    </tr>\n",
       "  </tbody>\n",
       "</table>\n",
       "<p>506083 rows × 3 columns</p>\n",
       "</div>"
      ],
      "text/plain": [
       "                                        name                       creator  \\\n",
       "0              Road Scholar Music - Time Out     m6987rtt6g366efqfmc5wyhyz   \n",
       "1                  Unique vibes & melodies 🎯  31uamur27hmf7inbjwty5snu5guq   \n",
       "2              EVERYONE HAS A PERSONAL JESUS                  shacklebones   \n",
       "3                              Meg and Nicki     1gyv5wm7stq6hlvgogcrqknmy   \n",
       "4                                          🔥     9457x2uhyu3ddu3xgtp75zn7b   \n",
       "...                                      ...                           ...   \n",
       "506078                 Candyman (Soundtrack)                         j_j83   \n",
       "506079           The Sound of Swedish Techno            thesoundsofspotify   \n",
       "506080                            Chill Dulu     21l3nykspo7spysgt26y45j6y   \n",
       "506081                         PRE GAME HYPE                       jlg_syg   \n",
       "506082  Some Tunes That Got My Interest (76)     224ez6j66e7k7mxjbxmi7t6qa   \n",
       "\n",
       "                                                   tracks  \n",
       "0       [5GPIwdNn1RA4d9rn82oJEM, 1Mtz6qh9llg6ixvuvrE35...  \n",
       "1       [41MCdlvXOl62B7Kv86Bb1v, 4CNcRgjGw1v9VQaTaytdn...  \n",
       "2       [5dcwiQFqn0mTcWewYIv7MV, 7dhM0KUBxuZV9z5iNodLy...  \n",
       "3       [0atlzOheGQinatffOCwaJn, 4RjO06903bR59kYRulI1z...  \n",
       "4       [3vkJQv4A2LPtVQYJbWhIQ0, 3orEOtd8CPL8GFlpRpKuo...  \n",
       "...                                                   ...  \n",
       "506078  [6JRcFgCSzZ7v2BlRSksJ1A, 7EcvUcEhHiVkbBIo355Xe...  \n",
       "506079  [1lbUtnuS8AYvKd0lziKpJ4, 10lwnnYRW368Ek39blTQ0...  \n",
       "506080  [58dSdjfEYNSxte1aNVxuNf, 0PZRlp2wrQDausamlangt...  \n",
       "506081  [4cg1yakyRSIOjxKM2I7J1q, 29sLYS3n2r2mhmRqHM33B...  \n",
       "506082  [7qMvPrryl4s5CsfwOgMPgF, 19TOAlTFq0NDHvUPQR0tk...  \n",
       "\n",
       "[506083 rows x 3 columns]"
      ]
     },
     "execution_count": 69,
     "metadata": {},
     "output_type": "execute_result"
    }
   ],
   "source": [
    "playlists[55]"
   ]
  },
  {
   "cell_type": "code",
   "execution_count": 64,
   "metadata": {},
   "outputs": [
    {
     "data": {
      "text/plain": [
       "(7448716, 4)"
      ]
     },
     "execution_count": 64,
     "metadata": {},
     "output_type": "execute_result"
    }
   ],
   "source": [
    "tracks_d"
   ]
  },
  {
   "cell_type": "code",
   "execution_count": null,
   "metadata": {},
   "outputs": [],
   "source": []
  }
 ],
 "metadata": {
  "kernelspec": {
   "display_name": "Python 3",
   "language": "python",
   "name": "python3"
  },
  "language_info": {
   "codemirror_mode": {
    "name": "ipython",
    "version": 3
   },
   "file_extension": ".py",
   "mimetype": "text/x-python",
   "name": "python",
   "nbconvert_exporter": "python",
   "pygments_lexer": "ipython3",
   "version": "3.8.3"
  }
 },
 "nbformat": 4,
 "nbformat_minor": 4
}
